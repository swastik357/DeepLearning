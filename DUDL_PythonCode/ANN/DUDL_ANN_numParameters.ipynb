{
 "cells": [
  {
   "cell_type": "markdown",
   "metadata": {
    "id": "bhWV8oes-wKR"
   },
   "source": [
    "# COURSE: A deep understanding of deep learning\n",
    "## SECTION: ANNs\n",
    "### LECTURE: Depth vs. breadth: number of parameters\n",
    "#### TEACHER: Mike X Cohen, sincxpress.com\n",
    "##### COURSE URL: udemy.com/course/deeplearning_x/?couponCode=202305"
   ]
  },
  {
   "cell_type": "code",
   "execution_count": 1,
   "metadata": {
    "id": "j7-LiwqUMGYL"
   },
   "outputs": [],
   "source": [
    "# import libraries\n",
    "import numpy as np\n",
    "import torch\n",
    "import torch.nn as nn"
   ]
  },
  {
   "cell_type": "code",
   "execution_count": 2,
   "metadata": {
    "id": "krQeh5wYMNla"
   },
   "outputs": [
    {
     "name": "stdout",
     "output_type": "stream",
     "text": [
      "Sequential(\n",
      "  (0): Linear(in_features=2, out_features=4, bias=True)\n",
      "  (1): Linear(in_features=4, out_features=3, bias=True)\n",
      ")\n",
      " \n",
      "Sequential(\n",
      "  (0): Linear(in_features=2, out_features=2, bias=True)\n",
      "  (1): Linear(in_features=2, out_features=2, bias=True)\n",
      "  (2): Linear(in_features=2, out_features=3, bias=True)\n",
      ")\n"
     ]
    }
   ],
   "source": [
    "# build two models\n",
    "\n",
    "widenet = nn.Sequential(\n",
    "    nn.Linear(2,4),  # hidden layer\n",
    "    nn.Linear(4,3),  # output layer\n",
    "    )\n",
    "\n",
    "\n",
    "deepnet = nn.Sequential(\n",
    "    nn.Linear(2,2),  # hidden layer\n",
    "    nn.Linear(2,2),  # hidden layer\n",
    "    nn.Linear(2,3),  # output layer\n",
    "    )\n",
    "\n",
    "# print them out to have a look\n",
    "print(widenet)\n",
    "print(' ')\n",
    "print(deepnet)"
   ]
  },
  {
   "cell_type": "code",
   "execution_count": 4,
   "metadata": {
    "id": "Rv5g3ISypDNk"
   },
   "outputs": [
    {
     "data": {
      "text/plain": [
       "<bound method Module.cuda of Sequential(\n",
       "  (0): Linear(in_features=2, out_features=4, bias=True)\n",
       "  (1): Linear(in_features=4, out_features=3, bias=True)\n",
       ")>"
      ]
     },
     "execution_count": 4,
     "metadata": {},
     "output_type": "execute_result"
    }
   ],
   "source": [
    "widenet.cuda"
   ]
  },
  {
   "cell_type": "markdown",
   "metadata": {
    "id": "ni8L4jRgopMO"
   },
   "source": [
    "# Peeking inside the network"
   ]
  },
  {
   "cell_type": "code",
   "execution_count": 5,
   "metadata": {
    "id": "lrKmii4Xmx-Z"
   },
   "outputs": [
    {
     "name": "stdout",
     "output_type": "stream",
     "text": [
      "('0.weight', Parameter containing:\n",
      "tensor([[ 0.0010, -0.3575],\n",
      "        [ 0.1366, -0.3163]], requires_grad=True))\n",
      " \n",
      "('0.bias', Parameter containing:\n",
      "tensor([-0.4937, -0.6975], requires_grad=True))\n",
      " \n",
      "('1.weight', Parameter containing:\n",
      "tensor([[-0.5271,  0.5254],\n",
      "        [ 0.5537,  0.0450]], requires_grad=True))\n",
      " \n",
      "('1.bias', Parameter containing:\n",
      "tensor([ 0.0100, -0.0221], requires_grad=True))\n",
      " \n",
      "('2.weight', Parameter containing:\n",
      "tensor([[-0.7057,  0.3352],\n",
      "        [ 0.4002,  0.0036],\n",
      "        [-0.3781,  0.5865]], requires_grad=True))\n",
      " \n",
      "('2.bias', Parameter containing:\n",
      "tensor([-0.4630, -0.0332, -0.4478], requires_grad=True))\n",
      " \n"
     ]
    }
   ],
   "source": [
    "# check out the parameters\n",
    "for p in deepnet.named_parameters():\n",
    "  print(p)\n",
    "  print(' ')\n",
    "    \n",
    "(0): Linear(in_features=2, out_features=2, bias=True)\n",
    "(1): Linear(in_features=2, out_features=2, bias=True)\n",
    "(2): Linear(in_features=2, out_features=3, bias=True)"
   ]
  },
  {
   "cell_type": "code",
   "execution_count": 6,
   "metadata": {
    "id": "I811amwtouaY"
   },
   "outputs": [
    {
     "name": "stdout",
     "output_type": "stream",
     "text": [
      "There are 7 nodes in the wide network.\n",
      "There are 7 nodes in the deep network.\n"
     ]
    }
   ],
   "source": [
    "# count the number of nodes ( = the number of biases)\n",
    "\n",
    "# named_parameters() is an iterable that returns the tuple (name,numbers)\n",
    "numNodesInWide = 0\n",
    "for p in widenet.named_parameters():\n",
    "  if 'bias' in p[0]:\n",
    "    numNodesInWide += len(p[1])\n",
    "\n",
    "numNodesInDeep = 0\n",
    "for paramName,paramVect in deepnet.named_parameters():\n",
    "  if 'bias' in paramName:\n",
    "    numNodesInDeep += len(paramVect)\n",
    "\n",
    "\n",
    "print('There are %s nodes in the wide network.' %numNodesInWide)\n",
    "print('There are %s nodes in the deep network.' %numNodesInDeep)"
   ]
  },
  {
   "cell_type": "code",
   "execution_count": 7,
   "metadata": {
    "id": "FVuYUMy7spW9"
   },
   "outputs": [
    {
     "name": "stdout",
     "output_type": "stream",
     "text": [
      "Parameter containing:\n",
      "tensor([[ 0.6936,  0.3922],\n",
      "        [-0.3485,  0.2734],\n",
      "        [-0.6545,  0.4136],\n",
      "        [ 0.0471, -0.0920]], requires_grad=True)\n",
      " \n",
      "Parameter containing:\n",
      "tensor([-0.5906, -0.2036,  0.5843,  0.0126], requires_grad=True)\n",
      " \n",
      "Parameter containing:\n",
      "tensor([[ 0.3895,  0.4418,  0.3062, -0.2680],\n",
      "        [ 0.2772, -0.0127,  0.2372, -0.2058],\n",
      "        [-0.4702,  0.2326, -0.1019, -0.1615]], requires_grad=True)\n",
      " \n",
      "Parameter containing:\n",
      "tensor([-0.0889,  0.1065, -0.2630], requires_grad=True)\n",
      " \n"
     ]
    }
   ],
   "source": [
    "# just the parameters\n",
    "for p in widenet.parameters():\n",
    "  print(p)\n",
    "  print(' ')"
   ]
  },
  {
   "cell_type": "code",
   "execution_count": 8,
   "metadata": {
    "id": "xtTwxsVhirEq"
   },
   "outputs": [
    {
     "name": "stdout",
     "output_type": "stream",
     "text": [
      "This piece has 8 parameters\n",
      "This piece has 4 parameters\n",
      "This piece has 12 parameters\n",
      "This piece has 3 parameters\n",
      "\n",
      "\n",
      "Total of 27 parameters\n"
     ]
    }
   ],
   "source": [
    "# now count the total number of trainable parameters\n",
    "nparams = 0\n",
    "for p in widenet.parameters():\n",
    "  if p.requires_grad:\n",
    "    print('This piece has %s parameters' %p.numel())\n",
    "    nparams += p.numel()\n",
    "\n",
    "print('\\n\\nTotal of %s parameters'%nparams)"
   ]
  },
  {
   "cell_type": "code",
   "execution_count": 9,
   "metadata": {
    "id": "PKr2ARdWivz8"
   },
   "outputs": [
    {
     "name": "stdout",
     "output_type": "stream",
     "text": [
      "Widenet has 27 parameters\n",
      "Deepnet has 21 parameters\n"
     ]
    }
   ],
   "source": [
    "# btw, can also use list comprehension\n",
    "\n",
    "nparams = np.sum([ p.numel() for p in widenet.parameters() if p.requires_grad ])\n",
    "print('Widenet has %s parameters'%nparams)\n",
    "\n",
    "nparams = np.sum([ p.numel() for p in deepnet.parameters() if p.requires_grad ])\n",
    "print('Deepnet has %s parameters'%nparams)"
   ]
  },
  {
   "cell_type": "code",
   "execution_count": 11,
   "metadata": {
    "id": "I9wsTcbrrYT7"
   },
   "outputs": [
    {
     "name": "stdout",
     "output_type": "stream",
     "text": [
      "Collecting torchsummary\n",
      "  Downloading torchsummary-1.5.1-py3-none-any.whl (2.8 kB)\n",
      "Installing collected packages: torchsummary\n",
      "Successfully installed torchsummary-1.5.1\n",
      "Note: you may need to restart the kernel to use updated packages.\n"
     ]
    }
   ],
   "source": [
    "pip install torchsummary"
   ]
  },
  {
   "cell_type": "code",
   "execution_count": 13,
   "metadata": {
    "id": "_6GzhyxLUrYy"
   },
   "outputs": [
    {
     "name": "stdout",
     "output_type": "stream",
     "text": [
      "----------------------------------------------------------------\n",
      "        Layer (type)               Output Shape         Param #\n",
      "================================================================\n",
      "            Linear-1                 [-1, 1, 4]              12\n",
      "            Linear-2                 [-1, 1, 3]              15\n",
      "================================================================\n",
      "Total params: 27\n",
      "Trainable params: 27\n",
      "Non-trainable params: 0\n",
      "----------------------------------------------------------------\n",
      "Input size (MB): 0.00\n",
      "Forward/backward pass size (MB): 0.00\n",
      "Params size (MB): 0.00\n",
      "Estimated Total Size (MB): 0.00\n",
      "----------------------------------------------------------------\n",
      "----------------------------------------------------------------\n",
      "        Layer (type)               Output Shape         Param #\n",
      "================================================================\n",
      "            Linear-1                 [-1, 1, 2]               6\n",
      "            Linear-2                 [-1, 1, 2]               6\n",
      "            Linear-3                 [-1, 1, 3]               9\n",
      "================================================================\n",
      "Total params: 21\n",
      "Trainable params: 21\n",
      "Non-trainable params: 0\n",
      "----------------------------------------------------------------\n",
      "Input size (MB): 0.00\n",
      "Forward/backward pass size (MB): 0.00\n",
      "Params size (MB): 0.00\n",
      "Estimated Total Size (MB): 0.00\n",
      "----------------------------------------------------------------\n"
     ]
    }
   ],
   "source": [
    "\n",
    "# A nice simple way to print out the model info.\n",
    "from torchsummary import summary\n",
    "summary(widenet,(1,2))\n",
    "summary(deepnet,(1,2))\n",
    "### NOTE ABOUT THE CODE IN THIS CELL:\n",
    "# torchsummary is being replaced by torchinfo.\n",
    "# If you are importing these libraries on your own (via pip), then see the following website:\n",
    "#        https://pypi.org/project/torch-summary/\n",
    "# However, torchsummary will continue to be supported, so if the code in this cell works (meaning torchsummary is already installed), \n",
    "# then you don't need to do anything!"
   ]
  },
  {
   "cell_type": "code",
   "execution_count": null,
   "metadata": {
    "id": "KHlWL3_drYhT"
   },
   "outputs": [],
   "source": []
  }
 ],
 "metadata": {
  "colab": {
   "authorship_tag": "ABX9TyNp0/OYNZqgbUCz8Xrl2dyW",
   "collapsed_sections": [],
   "name": "DUDL_ANN_numParameters.ipynb",
   "provenance": [
    {
     "file_id": "1Q_oDw0aMA4QFKDnLxuqJp62P8oPMtO1R",
     "timestamp": 1618255245074
    },
    {
     "file_id": "1FtQ99beHYcDFDywLdaPgFm-KjBeI8PvD",
     "timestamp": 1615884593383
    }
   ]
  },
  "kernelspec": {
   "display_name": "Python 3 (ipykernel)",
   "language": "python",
   "name": "python3"
  },
  "language_info": {
   "codemirror_mode": {
    "name": "ipython",
    "version": 3
   },
   "file_extension": ".py",
   "mimetype": "text/x-python",
   "name": "python",
   "nbconvert_exporter": "python",
   "pygments_lexer": "ipython3",
   "version": "3.11.4"
  }
 },
 "nbformat": 4,
 "nbformat_minor": 1
}
