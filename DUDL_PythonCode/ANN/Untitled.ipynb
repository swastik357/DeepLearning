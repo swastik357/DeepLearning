{
 "cells": [
  {
   "cell_type": "code",
   "execution_count": null,
   "id": "7e51bae8",
   "metadata": {},
   "outputs": [],
   "source": [
    "import matplotlib.pyplot as plt\n",
    "plt.ioff()\n",
    "testlosses = []\n",
    "for i in range(100):\n",
    "    %run DUDL_ANN_regression.ipynb\n",
    "    %store -r data\n",
    "    testlosses.append(data)\n",
    "total = count = 0\n",
    "for loss in testlosses:\n",
    "    total+=1\n",
    "    if loss>0.25:\n",
    "        count+=1\n",
    "print(count)\n",
    "print(total)"
   ]
  }
 ],
 "metadata": {
  "kernelspec": {
   "display_name": "Python 3 (ipykernel)",
   "language": "python",
   "name": "python3"
  },
  "language_info": {
   "codemirror_mode": {
    "name": "ipython",
    "version": 3
   },
   "file_extension": ".py",
   "mimetype": "text/x-python",
   "name": "python",
   "nbconvert_exporter": "python",
   "pygments_lexer": "ipython3",
   "version": "3.11.4"
  }
 },
 "nbformat": 4,
 "nbformat_minor": 5
}
