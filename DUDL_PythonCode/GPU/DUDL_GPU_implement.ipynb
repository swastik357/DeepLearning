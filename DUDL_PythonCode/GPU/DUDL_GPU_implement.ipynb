{
  "nbformat": 4,
  "nbformat_minor": 0,
  "metadata": {
    "colab": {
      "provenance": []
    },
    "kernelspec": {
      "name": "python3",
      "display_name": "Python 3"
    },
    "language_info": {
      "name": "python"
    },
    "accelerator": "GPU"
  },
  "cells": [
    {
      "cell_type": "markdown",
      "metadata": {
        "id": "bhWV8oes-wKR"
      },
      "source": [
        "# COURSE: A deep understanding of deep learning\n",
        "## SECTION: Running models on a GPU\n",
        "### LECTURE: Implementation\n",
        "#### TEACHER: Mike X Cohen, sincxpress.com\n",
        "##### COURSE URL: udemy.com/course/deeplearning_x/?couponCode=202305"
      ]
    },
    {
      "cell_type": "code",
      "metadata": {
        "id": "YeuAheYyhdZw"
      },
      "source": [
        "# import libraries\n",
        "import torch\n",
        "import torch.nn as nn\n",
        "import matplotlib.pyplot as plt\n",
        "import time"
      ],
      "execution_count": 2,
      "outputs": []
    },
    {
      "cell_type": "markdown",
      "metadata": {
        "id": "g0O-zq4UiM0P"
      },
      "source": [
        "# Select the processor device"
      ]
    },
    {
      "cell_type": "code",
      "metadata": {
        "id": "03MycVnQiRqO"
      },
      "source": [
        "## Note: To run models on a GPU you must select from the menu:\n",
        "#   -> Runtime\n",
        "#     -> Change runtime type\n",
        "#       -> Hardware accelerator\n",
        "#         -> GPU"
      ],
      "execution_count": null,
      "outputs": []
    },
    {
      "cell_type": "code",
      "metadata": {
        "id": "cThPRuj_iJA2",
        "colab": {
          "base_uri": "https://localhost:8080/"
        },
        "outputId": "ee0836ea-38a9-44af-a172-108ef7f177de"
      },
      "source": [
        "# use GPU\n",
        "device = torch.device('cuda:0' if torch.cuda.is_available() else 'cpu')\n",
        "print(device)"
      ],
      "execution_count": 3,
      "outputs": [
        {
          "output_type": "stream",
          "name": "stdout",
          "text": [
            "cuda:0\n"
          ]
        }
      ]
    },
    {
      "cell_type": "markdown",
      "metadata": {
        "id": "rcumdem5jtiD"
      },
      "source": [
        "# Build a simple model"
      ]
    },
    {
      "cell_type": "code",
      "metadata": {
        "id": "AMi1lQWOj09S"
      },
      "source": [
        "net = nn.Sequential(\n",
        "    nn.Linear(20,100),\n",
        "    nn.ReLU(),\n",
        "    nn.Linear(100,500),\n",
        "    nn.ReLU(),\n",
        "    nn.Linear(500,30),\n",
        "    nn.ReLU(),\n",
        "    nn.Linear(30,2)\n",
        "      )"
      ],
      "execution_count": 4,
      "outputs": []
    },
    {
      "cell_type": "markdown",
      "metadata": {
        "id": "TTfiVpw5j6Mq"
      },
      "source": [
        "# Make some data"
      ]
    },
    {
      "cell_type": "code",
      "metadata": {
        "id": "A_AGHhXDj1UN"
      },
      "source": [
        "# just some random fluff\n",
        "data   = torch.randn((1000,20)) # samples X features\n",
        "labels = torch.randint(low=0,high=2,size=(1,1000))"
      ],
      "execution_count": 5,
      "outputs": []
    },
    {
      "cell_type": "code",
      "source": [
        "print(data.shape)\n",
        "print(labels.shape)"
      ],
      "metadata": {
        "colab": {
          "base_uri": "https://localhost:8080/"
        },
        "id": "eHSmL6RD3i1n",
        "outputId": "68814d32-ee1c-4602-bffd-0ff842513044"
      },
      "execution_count": 10,
      "outputs": [
        {
          "output_type": "stream",
          "name": "stdout",
          "text": [
            "torch.Size([1000, 20])\n",
            "torch.Size([1, 1000])\n"
          ]
        }
      ]
    },
    {
      "cell_type": "markdown",
      "metadata": {
        "id": "laT9cpQcmA1l"
      },
      "source": [
        "# Send the model and the data to the GPU"
      ]
    },
    {
      "cell_type": "code",
      "metadata": {
        "id": "nQzP_FXLj1QW"
      },
      "source": [
        "# model\n",
        "net.to(device)\n",
        "\n",
        "# data\n",
        "data   = data.to(device)\n",
        "labels = labels.to(device)"
      ],
      "execution_count": 11,
      "outputs": []
    },
    {
      "cell_type": "code",
      "metadata": {
        "id": "b-uDroB7jPBe",
        "colab": {
          "base_uri": "https://localhost:8080/"
        },
        "outputId": "ff1509c7-6694-448f-81a3-3b877a5ae4a0"
      },
      "source": [
        "data"
      ],
      "execution_count": 12,
      "outputs": [
        {
          "output_type": "execute_result",
          "data": {
            "text/plain": [
              "tensor([[-0.7890,  0.8228, -0.6708,  ...,  0.0193,  0.8655, -0.5891],\n",
              "        [ 0.0700,  0.3299, -0.8609,  ...,  1.0731, -0.1072, -1.3965],\n",
              "        [-0.0698,  1.5783, -0.5611,  ..., -0.6901,  1.9648,  1.4868],\n",
              "        ...,\n",
              "        [ 0.8946,  0.0981, -1.4806,  ..., -0.2586, -2.6338,  0.5801],\n",
              "        [-0.6377,  1.3793,  1.4326,  ...,  0.0877,  0.3335, -1.4778],\n",
              "        [ 0.5609,  1.4846,  0.2757,  ..., -0.5523,  0.0324,  0.3183]],\n",
              "       device='cuda:0')"
            ]
          },
          "metadata": {},
          "execution_count": 12
        }
      ]
    },
    {
      "cell_type": "code",
      "metadata": {
        "id": "kCg4D6Hlfkgb",
        "colab": {
          "base_uri": "https://localhost:8080/"
        },
        "outputId": "01895b60-670f-440d-caf0-fc9d4ef57f00"
      },
      "source": [
        "# you can also create data directly on the GPU\n",
        "dataG = torch.randn((1000,20),device=device)\n",
        "dataC = torch.randn((1000,20),device='cpu')\n",
        "\n",
        "print(data.device)\n",
        "print(dataG.device)\n",
        "print(dataC.device)"
      ],
      "execution_count": 13,
      "outputs": [
        {
          "output_type": "stream",
          "name": "stdout",
          "text": [
            "cuda:0\n",
            "cuda:0\n",
            "cpu\n"
          ]
        }
      ]
    },
    {
      "cell_type": "markdown",
      "metadata": {
        "id": "9yrwlRyQj1dF"
      },
      "source": [
        "# Getting results from the model"
      ]
    },
    {
      "cell_type": "code",
      "metadata": {
        "id": "tryFiNSej1gF"
      },
      "source": [
        "output = net(data)"
      ],
      "execution_count": 14,
      "outputs": []
    },
    {
      "cell_type": "code",
      "metadata": {
        "id": "_0-0zxQOj1it",
        "colab": {
          "base_uri": "https://localhost:8080/"
        },
        "outputId": "61f5301b-cb52-4850-8f2e-722a2fe04f94"
      },
      "source": [
        "output.device"
      ],
      "execution_count": 15,
      "outputs": [
        {
          "output_type": "execute_result",
          "data": {
            "text/plain": [
              "device(type='cuda', index=0)"
            ]
          },
          "metadata": {},
          "execution_count": 15
        }
      ]
    },
    {
      "cell_type": "code",
      "metadata": {
        "id": "DQVKoRmWmUm5",
        "colab": {
          "base_uri": "https://localhost:8080/",
          "height": 430
        },
        "outputId": "2ec55356-1918-44c7-bc60-10dd7053eadf"
      },
      "source": [
        "# try to plot the data\n",
        "# plt.plot(output.detach());\n",
        "\n",
        "plt.plot(output.detach().cpu());"
      ],
      "execution_count": 17,
      "outputs": [
        {
          "output_type": "display_data",
          "data": {
            "text/plain": [
              "<Figure size 640x480 with 1 Axes>"
            ],
            "image/png": "[encoded data removed]"
          },
          "metadata": {}
        }
      ]
    },
    {
      "cell_type": "markdown",
      "metadata": {
        "id": "VcNrG3HRnwms"
      },
      "source": [
        "# Experiment: Computation time"
      ]
    },
    {
      "cell_type": "code",
      "metadata": {
        "id": "4lJBOELHnyJf"
      },
      "source": [
        "# start the clock\n",
        "starttime = time.process_time()\n",
        "\n",
        "# move, run, retrieve\n",
        "device = 'cuda:0'\n",
        "net.to(device)\n",
        "data   = data.to(device)\n",
        "labels = labels.to(device)\n",
        "output = net(data).detach().cpu()\n",
        "\n",
        "# stop the clock\n",
        "GPUtime = 1000*(time.process_time() - starttime)"
      ],
      "execution_count": 18,
      "outputs": []
    },
    {
      "cell_type": "code",
      "metadata": {
        "id": "a3o-SgmMnyMG"
      },
      "source": [
        "# start the clock\n",
        "starttime = time.process_time()\n",
        "\n",
        "# move, run, retrieve\n",
        "device = 'cpu'\n",
        "net.to(device)\n",
        "data   = data.to(device)\n",
        "labels = labels.to(device)\n",
        "output = net(data).detach().cpu()\n",
        "\n",
        "# stop the clock\n",
        "CPUtime = 1000*(time.process_time() - starttime)"
      ],
      "execution_count": 19,
      "outputs": []
    },
    {
      "cell_type": "code",
      "metadata": {
        "id": "hzYccKwjnyOw",
        "colab": {
          "base_uri": "https://localhost:8080/"
        },
        "outputId": "03caf74d-b3a2-4ff9-f5fb-6f688a386f3f"
      },
      "source": [
        "# time in ms\n",
        "[CPUtime,GPUtime]"
      ],
      "execution_count": 20,
      "outputs": [
        {
          "output_type": "execute_result",
          "data": {
            "text/plain": [
              "[9.54675599999888, 3.052621000000144]"
            ]
          },
          "metadata": {},
          "execution_count": 20
        }
      ]
    },
    {
      "cell_type": "code",
      "metadata": {
        "id": "Bo5dt4Nipprn"
      },
      "source": [
        "# but maybe \"sending\" it to the CPU takes too much overhead?"
      ],
      "execution_count": null,
      "outputs": []
    },
    {
      "cell_type": "code",
      "metadata": {
        "id": "J-NvS5tvnyRX",
        "colab": {
          "base_uri": "https://localhost:8080/"
        },
        "outputId": "e51b09eb-3a30-4f16-9a9f-8faa6eb0ae6e"
      },
      "source": [
        "# recreate network and data\n",
        "net  = nn.Sequential(nn.Linear(20,100),nn.ReLU(),nn.Linear(100,500),nn.ReLU(),nn.Linear(500,30),nn.ReLU(),nn.Linear(30,2))\n",
        "data = torch.randn((1000,20))\n",
        "\n",
        "# rerun the experiment\n",
        "starttime = time.process_time()\n",
        "output    = net(data).detach()\n",
        "CPUtime2  = 1000*(time.process_time() - starttime)\n",
        "\n",
        "# report the results\n",
        "[CPUtime2,CPUtime,GPUtime]"
      ],
      "execution_count": 21,
      "outputs": [
        {
          "output_type": "execute_result",
          "data": {
            "text/plain": [
              "[4.739659000000174, 9.54675599999888, 3.052621000000144]"
            ]
          },
          "metadata": {},
          "execution_count": 21
        }
      ]
    },
    {
      "cell_type": "code",
      "metadata": {
        "id": "dJ1p2lXWkSdl",
        "colab": {
          "base_uri": "https://localhost:8080/"
        },
        "outputId": "a9c2102c-090a-4adc-9f6a-85d3d35acd93"
      },
      "source": [
        "print(labels.shape)\n",
        "print(output.shape)"
      ],
      "execution_count": 23,
      "outputs": [
        {
          "output_type": "stream",
          "name": "stdout",
          "text": [
            "torch.Size([1, 1000])\n",
            "torch.Size([1000, 2])\n"
          ]
        }
      ]
    }
  ]
}