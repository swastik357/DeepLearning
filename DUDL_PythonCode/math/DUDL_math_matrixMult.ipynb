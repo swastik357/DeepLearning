{
 "cells": [
  {
   "cell_type": "markdown",
   "metadata": {
    "id": "bhWV8oes-wKR"
   },
   "source": [
    "# COURSE: A deep understanding of deep learning\n",
    "## SECTION: Math prerequisites\n",
    "### LECTURE: Matrix multiplication\n",
    "#### TEACHER: Mike X Cohen, sincxpress.com\n",
    "##### COURSE URL: udemy.com/course/deeplearning_x/?couponCode=202305"
   ]
  },
  {
   "cell_type": "code",
   "execution_count": 7,
   "metadata": {
    "id": "vRQNyNtlDoOb"
   },
   "outputs": [],
   "source": [
    "# import libraries\n",
    "import numpy as np\n",
    "import torch"
   ]
  },
  {
   "cell_type": "markdown",
   "metadata": {
    "id": "K0BSQG0fDpt_"
   },
   "source": [
    "# Using numpy"
   ]
  },
  {
   "cell_type": "code",
   "execution_count": 8,
   "metadata": {
    "id": "T4_veEYqDpx9"
   },
   "outputs": [
    {
     "name": "stdout",
     "output_type": "stream",
     "text": [
      "[[-1.92 -2.68 -0.73 -1.8   4.43]\n",
      " [ 0.02  4.29  8.68 -7.38 -6.19]\n",
      " [-0.52 -1.87 -0.39  0.63  2.27]]\n",
      " \n",
      "[[-0.68 -0.69 -1.23 -0.12]\n",
      " [ 4.37  2.77 -0.31  3.51]\n",
      " [ 0.74  0.3  -4.3  -1.74]\n",
      " [ 3.53  2.4   0.11  2.24]\n",
      " [-3.66 -2.34  3.5  -0.37]\n",
      " [ 2.81  1.7  -8.1  -3.37]\n",
      " [ 0.25  0.24  0.86  0.44]]\n"
     ]
    }
   ],
   "source": [
    "# create some random matrices\n",
    "A = np.random.randn(3,4)\n",
    "B = np.random.randn(4,5)\n",
    "C = np.random.randn(3,7)\n",
    "\n",
    "# try some multiplications...\n",
    "print(np.round( A@B   ,2)), print(' ')\n",
    "# print(np.round( A@C   ,2)), print(' ')\n",
    "# print(np.round( B@C   ,2)), print(' ')\n",
    "print(np.round( C.T@A ,2))"
   ]
  },
  {
   "cell_type": "markdown",
   "metadata": {
    "id": "89qsNy19Dp1U"
   },
   "source": [
    "# Using pytorch"
   ]
  },
  {
   "cell_type": "code",
   "execution_count": 12,
   "metadata": {
    "id": "4Yrdf4WOEjxz"
   },
   "outputs": [
    {
     "name": "stdout",
     "output_type": "stream",
     "text": [
      "tensor([[ 0.7500,  1.2300, -1.5000,  0.4300, -0.2900, -0.2600,  1.1800],\n",
      "        [ 0.0100,  0.0000,  0.8400, -0.7400, -0.9700, -0.1200, -2.0700],\n",
      "        [-1.8100, -1.5000,  3.8200, -1.1000,  2.8000, -1.5800, -1.7600]],\n",
      "       dtype=torch.float64)\n",
      " \n",
      "tensor([[ 0.7500,  1.2300, -1.5000,  0.4300, -0.2900, -0.2600,  1.1800],\n",
      "        [ 0.0100,  0.0000,  0.8400, -0.7400, -0.9700, -0.1200, -2.0700],\n",
      "        [-1.8100, -1.5000,  3.8200, -1.1000,  2.8000, -1.5800, -1.7600]])\n"
     ]
    }
   ],
   "source": [
    "# create some random matrices\n",
    "A  = torch.randn(3,4)\n",
    "B  = torch.randn(4,5)\n",
    "C1 = np.random.randn(4,7)\n",
    "C2 = torch.tensor( C1,dtype=torch.float )\n",
    "\n",
    "# try some multiplications...\n",
    "# print(np.round( A@B   ,2)), print(' ')\n",
    "# print(np.round( A@B.T ,2)), print(' ')\n",
    "print(np.round( A@C1  ,2)), print(' ')\n",
    "print(np.round( A@C2  ,2))"
   ]
  },
  {
   "cell_type": "code",
   "execution_count": 16,
   "metadata": {},
   "outputs": [
    {
     "name": "stdout",
     "output_type": "stream",
     "text": [
      "<class 'torch.Tensor'>\n",
      "tensor([[ 7.5128e-01,  1.2288e+00, -1.5034e+00,  4.2518e-01, -2.9468e-01,\n",
      "         -2.6069e-01,  1.1806e+00],\n",
      "        [ 1.3743e-02,  3.0230e-03,  8.3530e-01, -7.4360e-01, -9.6595e-01,\n",
      "         -1.2315e-01, -2.0704e+00],\n",
      "        [-1.8146e+00, -1.4965e+00,  3.8217e+00, -1.0976e+00,  2.8030e+00,\n",
      "         -1.5801e+00, -1.7564e+00]], dtype=torch.float64)\n",
      "<class 'torch.Tensor'>\n",
      "tensor([[ 0.7500,  1.2300, -1.5000,  0.4300, -0.2900, -0.2600,  1.1800],\n",
      "        [ 0.0100,  0.0000,  0.8400, -0.7400, -0.9700, -0.1200, -2.0700],\n",
      "        [-1.8100, -1.5000,  3.8200, -1.1000,  2.8000, -1.5800, -1.7600]],\n",
      "       dtype=torch.float64)\n"
     ]
    }
   ],
   "source": [
    "D = A@C1\n",
    "print(type(D))\n",
    "print(D)\n",
    "E = np.round( D  ,2)\n",
    "print(type(E))\n",
    "print(E)"
   ]
  },
  {
   "cell_type": "code",
   "execution_count": 21,
   "metadata": {},
   "outputs": [
    {
     "name": "stdout",
     "output_type": "stream",
     "text": [
      "tensor([[5.6000e-01, 1.5100e+00, 2.2500e+00, 1.8000e-01, 8.0000e-02, 7.0000e-02,\n",
      "         1.3900e+00],\n",
      "        [0.0000e+00, 0.0000e+00, 7.1000e-01, 5.5000e-01, 9.4000e-01, 1.0000e-02,\n",
      "         4.2800e+00],\n",
      "        [3.2800e+00, 2.2500e+00, 1.4590e+01, 1.2100e+00, 7.8400e+00, 2.5000e+00,\n",
      "         3.1000e+00]], dtype=torch.float64)\n",
      "<class 'torch.Tensor'>\n"
     ]
    }
   ],
   "source": [
    "F = np.round(E*E,2)\n",
    "print(F)\n",
    "print(type(F))"
   ]
  },
  {
   "cell_type": "code",
   "execution_count": 24,
   "metadata": {},
   "outputs": [
    {
     "name": "stdout",
     "output_type": "stream",
     "text": [
      "tensor([[  6.0500,  -3.7000, -11.8800],\n",
      "        [ -3.7000,   6.4900,   5.1200],\n",
      "        [-11.8800,   5.1200,  34.7600]], dtype=torch.float64)\n",
      "<class 'torch.Tensor'>\n"
     ]
    }
   ],
   "source": [
    "G = np.round(E@E.T,2)\n",
    "print(G)\n",
    "print(type(G))"
   ]
  },
  {
   "cell_type": "code",
   "execution_count": null,
   "metadata": {},
   "outputs": [],
   "source": []
  }
 ],
 "metadata": {
  "colab": {
   "authorship_tag": "ABX9TyN3xNttY0efRLiZkxgkBGe2",
   "collapsed_sections": [],
   "name": "DUDL_math_matrixMult.ipynb",
   "provenance": []
  },
  "kernelspec": {
   "display_name": "Python 3 (ipykernel)",
   "language": "python",
   "name": "python3"
  },
  "language_info": {
   "codemirror_mode": {
    "name": "ipython",
    "version": 3
   },
   "file_extension": ".py",
   "mimetype": "text/x-python",
   "name": "python",
   "nbconvert_exporter": "python",
   "pygments_lexer": "ipython3",
   "version": "3.11.4"
  }
 },
 "nbformat": 4,
 "nbformat_minor": 1
}
