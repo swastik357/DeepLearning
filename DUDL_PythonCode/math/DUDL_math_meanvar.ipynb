{
 "cells": [
  {
   "cell_type": "markdown",
   "metadata": {
    "id": "bhWV8oes-wKR"
   },
   "source": [
    "# COURSE: A deep understanding of deep learning\n",
    "## SECTION: Math prerequisites\n",
    "### LECTURE: Mean and variance\n",
    "#### TEACHER: Mike X Cohen, sincxpress.com\n",
    "##### COURSE URL: udemy.com/course/deeplearning_x/?couponCode=202305"
   ]
  },
  {
   "cell_type": "code",
   "execution_count": 1,
   "metadata": {
    "id": "wYjuZD1kPb3g"
   },
   "outputs": [],
   "source": [
    "# import libraries\n",
    "import numpy as np"
   ]
  },
  {
   "cell_type": "code",
   "execution_count": 2,
   "metadata": {
    "id": "tJ_A2ykHS5RY"
   },
   "outputs": [
    {
     "name": "stdout",
     "output_type": "stream",
     "text": [
      "3.142857142857143\n",
      "3.142857142857143\n"
     ]
    }
   ],
   "source": [
    "# create a list of numbers to compute the mean and variance of\n",
    "x = [1,2,4,6,5,4,0]\n",
    "n = len(x)\n",
    "\n",
    "# compute the mean\n",
    "mean1 = np.mean(x)\n",
    "mean2 = np.sum(x) / n\n",
    "\n",
    "# print them\n",
    "print(mean1)\n",
    "print(mean2)"
   ]
  },
  {
   "cell_type": "code",
   "execution_count": 3,
   "metadata": {
    "id": "QZaS568IThAr"
   },
   "outputs": [
    {
     "name": "stdout",
     "output_type": "stream",
     "text": [
      "4.122448979591836\n",
      "4.809523809523809\n"
     ]
    }
   ],
   "source": [
    "# variance\n",
    "\n",
    "var1 = np.var(x)\n",
    "var2 = (1/(n-1))*np.sum((x-mean1)**2)\n",
    "\n",
    "print(var1)\n",
    "print(var2)"
   ]
  },
  {
   "cell_type": "code",
   "execution_count": 4,
   "metadata": {
    "id": "oAUTsBE646fN"
   },
   "outputs": [
    {
     "name": "stdout",
     "output_type": "stream",
     "text": [
      "4.809523809523809\n",
      "4.809523809523809\n"
     ]
    }
   ],
   "source": [
    "# uh oh!\n",
    "\n",
    "var3 = np.var(x,ddof=1)\n",
    "\n",
    "print(var3)\n",
    "print(var2)"
   ]
  },
  {
   "cell_type": "code",
   "execution_count": 9,
   "metadata": {
    "id": "mdoWX2Fx5JIy"
   },
   "outputs": [
    {
     "name": "stdout",
     "output_type": "stream",
     "text": [
      "33.00916471\n",
      "33.01246595659566\n",
      "33.01246595659566\n",
      "33.00916471\n"
     ]
    }
   ],
   "source": [
    "# does it matter for large N? \n",
    "\n",
    "N = 10000\n",
    "x = np.random.randint(0,high=20,size=N)\n",
    "mean = np.sum(x)/N\n",
    "\n",
    "var0 = np.var(x,ddof=0) # default\n",
    "var1 = np.var(x,ddof=1) # unbiased\n",
    "var2 = (1/(N-1))*np.sum((x-mean)**2)\n",
    "var3 = (1/(N))*np.sum((x-mean)**2)\n",
    "\n",
    "print(var0)\n",
    "print(var1)\n",
    "print(var2)\n",
    "print(var3)"
   ]
  },
  {
   "cell_type": "code",
   "execution_count": null,
   "metadata": {},
   "outputs": [],
   "source": []
  }
 ],
 "metadata": {
  "colab": {
   "authorship_tag": "ABX9TyOq4j7MI+XdUF3fllmbwynp",
   "collapsed_sections": [],
   "name": "DUDL_math_meanvar.ipynb",
   "provenance": [
    {
     "file_id": "1KX8lBi9Oey9iD2Aac8X6d-j3dMlyTodJ",
     "timestamp": 1617002781341
    }
   ]
  },
  "kernelspec": {
   "display_name": "Python 3 (ipykernel)",
   "language": "python",
   "name": "python3"
  },
  "language_info": {
   "codemirror_mode": {
    "name": "ipython",
    "version": 3
   },
   "file_extension": ".py",
   "mimetype": "text/x-python",
   "name": "python",
   "nbconvert_exporter": "python",
   "pygments_lexer": "ipython3",
   "version": "3.11.4"
  }
 },
 "nbformat": 4,
 "nbformat_minor": 1
}
