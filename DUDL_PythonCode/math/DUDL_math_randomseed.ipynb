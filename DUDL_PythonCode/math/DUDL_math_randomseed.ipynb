{
 "cells": [
  {
   "cell_type": "markdown",
   "metadata": {
    "id": "bhWV8oes-wKR"
   },
   "source": [
    "# COURSE: A deep understanding of deep learning\n",
    "## SECTION: Math prerequisites\n",
    "### LECTURE: Identical randomness via seeding\n",
    "#### TEACHER: Mike X Cohen, sincxpress.com\n",
    "##### COURSE URL: udemy.com/course/deeplearning_x/?couponCode=202305"
   ]
  },
  {
   "cell_type": "code",
   "execution_count": 1,
   "metadata": {
    "executionInfo": {
     "elapsed": 4400,
     "status": "ok",
     "timestamp": 1676841300342,
     "user": {
      "displayName": "Mike X Cohen",
      "userId": "13901636194183843661"
     },
     "user_tz": -540
    },
    "id": "wYjuZD1kPb3g"
   },
   "outputs": [],
   "source": [
    "# import libraries\n",
    "import numpy as np\n",
    "import torch"
   ]
  },
  {
   "cell_type": "code",
   "execution_count": 2,
   "metadata": {
    "id": "tJ_A2ykHS5RY"
   },
   "outputs": [
    {
     "data": {
      "text/plain": [
       "array([-0.17388643,  0.00328168, -0.33145967,  0.88251598,  0.97109959])"
      ]
     },
     "execution_count": 2,
     "metadata": {},
     "output_type": "execute_result"
    }
   ],
   "source": [
    "# generate a few random numbers\n",
    "np.random.randn(5)"
   ]
  },
  {
   "cell_type": "code",
   "execution_count": 8,
   "metadata": {
    "id": "QZaS568IThAr"
   },
   "outputs": [
    {
     "name": "stdout",
     "output_type": "stream",
     "text": [
      "[ 0.27626589 -1.85462808  0.62390111  1.14531129  1.03719047]\n",
      "[ 1.88663893 -0.11169829 -0.36210134  0.14867505 -0.43778315]\n"
     ]
    }
   ],
   "source": [
    "# repeat after fixing the seed (old-but-still-widely-used method)\n",
    "np.random.seed(17)\n",
    "print(np.random.randn(5))\n",
    "print(np.random.randn(5))\n",
    "# [ 0.27626589 -1.85462808  0.62390111  1.14531129  1.03719047]\n",
    "# [ 1.88663893 -0.11169829 -0.36210134  0.14867505 -0.43778315]"
   ]
  },
  {
   "cell_type": "markdown",
   "metadata": {
    "id": "v5VZW0g-DxLl"
   },
   "source": [
    "# New seed mechanism in numpy"
   ]
  },
  {
   "cell_type": "code",
   "execution_count": 12,
   "metadata": {
    "colab": {
     "base_uri": "https://localhost:8080/"
    },
    "executionInfo": {
     "elapsed": 353,
     "status": "ok",
     "timestamp": 1676841327280,
     "user": {
      "displayName": "Mike X Cohen",
      "userId": "13901636194183843661"
     },
     "user_tz": -540
    },
    "id": "7Ctn7a0hChbA",
    "outputId": "8478bc3a-8ce0-456e-fa86-4235bad9c46d"
   },
   "outputs": [
    {
     "name": "stdout",
     "output_type": "stream",
     "text": [
      "[ 0.27626589 -1.85462808  0.62390111  1.14531129  1.03719047]\n",
      "[-0.24972681 -1.01951826  2.23461339  0.72764703  1.2921122 ]\n",
      "[ 1.88663893 -0.11169829 -0.36210134  0.14867505 -0.43778315]\n",
      "[ 1.15494929 -0.0015467  -0.11196868 -1.08136725  0.10265891]\n",
      "[ 0.13126776 -1.21256024  0.15999085 -0.75522304  0.34989599]\n"
     ]
    }
   ],
   "source": [
    "randseed1 = np.random.RandomState(17)\n",
    "randseed2 = np.random.RandomState(20210530)\n",
    "\n",
    "print( randseed1.randn(5) ) # same sequence\n",
    "print( randseed2.randn(5) ) # different from above, but same each time\n",
    "print( randseed1.randn(5) ) # same as two up\n",
    "print( randseed2.randn(5) ) # same as two up\n",
    "print( np.random.randn(5) ) # different every time\n",
    "\n",
    "# [ 0.27626589 -1.85462808  0.62390111  1.14531129  1.03719047]\n",
    "# [-0.24972681 -1.01951826  2.23461339  0.72764703  1.2921122 ]\n",
    "# [ 1.88663893 -0.11169829 -0.36210134  0.14867505 -0.43778315]\n",
    "# [ 1.15494929 -0.0015467  -0.11196868 -1.08136725  0.10265891]\n",
    "# [ 2.171257    1.15231025 -1.81881234 -0.13804934  0.53983961]"
   ]
  },
  {
   "cell_type": "code",
   "execution_count": 9,
   "metadata": {
    "colab": {
     "base_uri": "https://localhost:8080/"
    },
    "executionInfo": {
     "elapsed": 363,
     "status": "ok",
     "timestamp": 1676841345103,
     "user": {
      "displayName": "Mike X Cohen",
      "userId": "13901636194183843661"
     },
     "user_tz": -540
    },
    "id": "ZUniXETYh52I",
    "outputId": "8f648038-068c-4f8c-da73-2794224daa3d"
   },
   "outputs": [
    {
     "name": "stdout",
     "output_type": "stream",
     "text": [
      "[-1.77528229  1.31487654 -0.47344805 -1.0922299  -0.25002744]\n"
     ]
    }
   ],
   "source": []
  },
  {
   "cell_type": "markdown",
   "metadata": {
    "id": "Jy2WlM_oBjZy"
   },
   "source": [
    "# Now in pytorch"
   ]
  },
  {
   "cell_type": "code",
   "execution_count": 14,
   "metadata": {
    "id": "oAUTsBE646fN"
   },
   "outputs": [
    {
     "data": {
      "text/plain": [
       "tensor([ 1.0359, -1.3142, -1.7776,  0.1676, -0.5254])"
      ]
     },
     "execution_count": 14,
     "metadata": {},
     "output_type": "execute_result"
    }
   ],
   "source": [
    "torch.randn(5)"
   ]
  },
  {
   "cell_type": "code",
   "execution_count": 16,
   "metadata": {
    "id": "mdoWX2Fx5JIy"
   },
   "outputs": [
    {
     "name": "stdout",
     "output_type": "stream",
     "text": [
      "tensor([-1.4135,  0.2336,  0.0340,  0.3499, -0.0145])\n",
      "[ 0.86962384  0.56778309  0.46528234 -1.16537308 -2.03599479]\n"
     ]
    }
   ],
   "source": [
    "torch.manual_seed(17)\n",
    "print( torch.randn(5) )\n",
    "\n",
    "# torch's seed doesn't spread to numpy\n",
    "print( np.random.randn(5) )"
   ]
  },
  {
   "cell_type": "code",
   "execution_count": null,
   "metadata": {},
   "outputs": [],
   "source": []
  }
 ],
 "metadata": {
  "colab": {
   "authorship_tag": "ABX9TyOJyuFc3I4KRRovgrF3zmPZ",
   "provenance": [
    {
     "file_id": "196i6MReeJLozrRYpZsltVy8BC6X1b9ik",
     "timestamp": 1619035090045
    },
    {
     "file_id": "1KX8lBi9Oey9iD2Aac8X6d-j3dMlyTodJ",
     "timestamp": 1617002781341
    }
   ]
  },
  "kernelspec": {
   "display_name": "Python 3 (ipykernel)",
   "language": "python",
   "name": "python3"
  },
  "language_info": {
   "codemirror_mode": {
    "name": "ipython",
    "version": 3
   },
   "file_extension": ".py",
   "mimetype": "text/x-python",
   "name": "python",
   "nbconvert_exporter": "python",
   "pygments_lexer": "ipython3",
   "version": "3.11.4"
  }
 },
 "nbformat": 4,
 "nbformat_minor": 1
}
