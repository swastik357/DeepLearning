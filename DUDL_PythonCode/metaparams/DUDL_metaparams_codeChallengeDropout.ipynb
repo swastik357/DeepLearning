{
 "cells": [
  {
   "cell_type": "markdown",
   "metadata": {
    "id": "bhWV8oes-wKR"
   },
   "source": [
    "# COURSE: A deep understanding of deep learning\n",
    "## SECTION: Metaparameters (activation, batch, optimizers)\n",
    "### LECTURE: Predicting wine quality\n",
    "#### TEACHER: Mike X Cohen, sincxpress.com\n",
    "##### COURSE URL: udemy.com/course/deeplearning_x/?couponCode=202305"
   ]
  },
  {
   "cell_type": "code",
   "execution_count": 53,
   "metadata": {
    "id": "7U3TmybM4yMw"
   },
   "outputs": [],
   "source": [
    "### import libraries\n",
    "\n",
    "# for DL modeling\n",
    "import torch\n",
    "import torch.nn as nn\n",
    "import torch.nn.functional as F\n",
    "from torch.utils.data import DataLoader\n",
    "from sklearn.model_selection import train_test_split\n",
    "\n",
    "# for number-crunching\n",
    "import numpy as np\n",
    "import scipy.stats as stats\n",
    "\n",
    "# for dataset management\n",
    "import pandas as pd\n",
    "\n",
    "# for data visualization\n",
    "import matplotlib.pyplot as plt\n",
    "import seaborn as sns"
   ]
  },
  {
   "cell_type": "markdown",
   "metadata": {
    "id": "2anVFzBXGdwH"
   },
   "source": [
    "# Import and process the data"
   ]
  },
  {
   "cell_type": "code",
   "execution_count": 54,
   "metadata": {
    "id": "0ohXIxzt4_U2"
   },
   "outputs": [
    {
     "name": "stderr",
     "output_type": "stream",
     "text": [
      "/var/folders/4x/pds2gxg17h57rrp30d736s1w0000gn/T/ipykernel_24684/4017454401.py:15: SettingWithCopyWarning: \n",
      "A value is trying to be set on a copy of a slice from a DataFrame\n",
      "\n",
      "See the caveats in the documentation: https://pandas.pydata.org/pandas-docs/stable/user_guide/indexing.html#returning-a-view-versus-a-copy\n",
      "  data['boolQuality'][data['quality']>5] = 1\n"
     ]
    }
   ],
   "source": [
    "# import the data\n",
    "url = \"https://archive.ics.uci.edu/ml/machine-learning-databases/wine-quality/winequality-red.csv\"\n",
    "data = pd.read_csv(url,sep=';')\n",
    "data = data[data['total sulfur dioxide']<200]\n",
    "\n",
    "# find the columns we want to normalize (all except quality)\n",
    "# z-score (written out for clarity)\n",
    "cols2zscore = data.keys()\n",
    "cols2zscore = cols2zscore.drop('quality')\n",
    "data[cols2zscore] = data[cols2zscore].apply(stats.zscore)\n",
    "\n",
    "# create a new column for binarized (boolean) quality\n",
    "data['boolQuality'] = 0\n",
    "# data['boolQuality'][data['quality']<6] = 0 # implicit in the code! just here for clarity\n",
    "data['boolQuality'][data['quality']>5] = 1"
   ]
  },
  {
   "cell_type": "code",
   "execution_count": null,
   "metadata": {
    "id": "qjvI_6Su5Gk-"
   },
   "outputs": [],
   "source": []
  },
  {
   "cell_type": "markdown",
   "metadata": {
    "id": "vGQd7xmM5Gns"
   },
   "source": [
    "# Re-organize the data: train/test in DataLoaders"
   ]
  },
  {
   "cell_type": "code",
   "execution_count": 55,
   "metadata": {
    "id": "2kZ6YPe8Gav5"
   },
   "outputs": [],
   "source": [
    "# convert from pandas dataframe to tensor\n",
    "dataT  = torch.tensor( data[cols2zscore].values ).float()\n",
    "labels = torch.tensor( data['boolQuality'].values ).float()\n",
    "labels = labels[:,None] # transform to matrix"
   ]
  },
  {
   "cell_type": "code",
   "execution_count": 56,
   "metadata": {
    "id": "bbf064xxGa_x"
   },
   "outputs": [],
   "source": [
    "# use scikitlearn to split the data\n",
    "train_data,test_data, train_labels,test_labels = train_test_split(dataT, labels, test_size=.1)\n",
    "\n",
    "# then convert them into PyTorch Datasets (note: already converted to tensors)\n",
    "train_data = torch.utils.data.TensorDataset(train_data,train_labels)\n",
    "test_data  = torch.utils.data.TensorDataset(test_data,test_labels)\n",
    "\n",
    "# finally, translate into dataloader objects\n",
    "batchsize    = int(train_data.tensors[0].shape[0]/5)\n",
    "train_loader = DataLoader(train_data,batch_size=batchsize,shuffle=True,drop_last=True)\n",
    "test_loader  = DataLoader(test_data,batch_size=test_data.tensors[0].shape[0])"
   ]
  },
  {
   "cell_type": "code",
   "execution_count": 57,
   "metadata": {
    "id": "rflLNH9TGbap"
   },
   "outputs": [
    {
     "name": "stdout",
     "output_type": "stream",
     "text": [
      "torch.Size([287, 11]) torch.Size([287, 1])\n",
      "torch.Size([287, 11]) torch.Size([287, 1])\n",
      "torch.Size([287, 11]) torch.Size([287, 1])\n",
      "torch.Size([287, 11]) torch.Size([287, 1])\n",
      "torch.Size([287, 11]) torch.Size([287, 1])\n"
     ]
    }
   ],
   "source": [
    "# check sizes of data batches\n",
    "for X,y in train_loader:\n",
    "  print(X.shape,y.shape)\n",
    "\n",
    "# go back and set drop_last=True in training DataLoader"
   ]
  },
  {
   "cell_type": "markdown",
   "metadata": {
    "id": "I7g0mivk5GqP"
   },
   "source": [
    "# Now for the DL part"
   ]
  },
  {
   "cell_type": "code",
   "execution_count": 58,
   "metadata": {
    "id": "N0vAnQi9DNRa"
   },
   "outputs": [],
   "source": [
    "# create a class for the model\n",
    "\n",
    "class ANNwine(nn.Module):\n",
    "  def __init__(self):\n",
    "    super().__init__()\n",
    "\n",
    "    ### input layer\n",
    "    self.input = nn.Linear(11,16)\n",
    "    \n",
    "    ### hidden layers\n",
    "    self.fc1 = nn.Linear(16,32)\n",
    "    self.fc2 = nn.Linear(32,32)\n",
    "\n",
    "    ### output layer\n",
    "    self.output = nn.Linear(32,1)\n",
    "\n",
    "    # define dropout\n",
    "    self.dropout = nn.Dropout(.25)\n",
    "  \n",
    "\n",
    "  # forward pass\n",
    "  def forward(self,x):\n",
    "    x = F.relu( self.input(x) )\n",
    "    x = F.relu( self.fc1(x) )\n",
    "    x = self.dropout(x)\n",
    "    x = F.relu( self.fc2(x) )\n",
    "    x = self.dropout(x)\n",
    "    return self.output(x)"
   ]
  },
  {
   "cell_type": "code",
   "execution_count": 59,
   "metadata": {
    "id": "dbvHMGgtDMUj"
   },
   "outputs": [
    {
     "data": {
      "text/plain": [
       "ANNwine(\n",
       "  (input): Linear(in_features=11, out_features=16, bias=True)\n",
       "  (fc1): Linear(in_features=16, out_features=32, bias=True)\n",
       "  (fc2): Linear(in_features=32, out_features=32, bias=True)\n",
       "  (output): Linear(in_features=32, out_features=1, bias=True)\n",
       "  (dropout): Dropout(p=0.25, inplace=False)\n",
       ")"
      ]
     },
     "execution_count": 59,
     "metadata": {},
     "output_type": "execute_result"
    }
   ],
   "source": [
    "# generate an instance of the model and inspect it\n",
    "net = ANNwine()\n",
    "net"
   ]
  },
  {
   "cell_type": "code",
   "execution_count": 60,
   "metadata": {
    "id": "Hpa5Q5bADMW5"
   },
   "outputs": [
    {
     "name": "stdout",
     "output_type": "stream",
     "text": [
      "torch.Size([10, 1])\n",
      " \n",
      "tensor([[0.1847],\n",
      "        [0.2317],\n",
      "        [0.1350],\n",
      "        [0.1484],\n",
      "        [0.1301],\n",
      "        [0.1955],\n",
      "        [0.1699],\n",
      "        [0.1856],\n",
      "        [0.1304],\n",
      "        [0.1481]], grad_fn=<AddmmBackward0>)\n"
     ]
    }
   ],
   "source": [
    "# A quick test of running some numbers through the model. \n",
    "# This simply ensures that the architecture is internally consistent.\n",
    "\n",
    "# 10 samples, 11 dimensions\n",
    "tmpx = torch.randn(10,11)\n",
    "\n",
    "# run it through the DL\n",
    "y = net(tmpx)\n",
    "\n",
    "# exam the shape of the output\n",
    "print( y.shape ), print(' ')\n",
    "\n",
    "# and the output itself\n",
    "print(y)"
   ]
  },
  {
   "cell_type": "code",
   "execution_count": 61,
   "metadata": {
    "id": "OKhAEQZ1VPCx"
   },
   "outputs": [
    {
     "data": {
      "text/plain": [
       "tensor([[0.0768],\n",
       "        [0.1738],\n",
       "        [0.1035],\n",
       "        [0.1437],\n",
       "        [0.1914],\n",
       "        [0.1153],\n",
       "        [0.1804],\n",
       "        [0.1819],\n",
       "        [0.1119],\n",
       "        [0.1202],\n",
       "        [0.1878],\n",
       "        [0.2187],\n",
       "        [0.1471],\n",
       "        [0.1580],\n",
       "        [0.1120],\n",
       "        [0.1099],\n",
       "        [0.2776],\n",
       "        [0.1462],\n",
       "        [0.1830],\n",
       "        [0.1541],\n",
       "        [0.1784],\n",
       "        [0.1730],\n",
       "        [0.1736],\n",
       "        [0.2305],\n",
       "        [0.2260],\n",
       "        [0.1789],\n",
       "        [0.1054],\n",
       "        [0.0829],\n",
       "        [0.1715],\n",
       "        [0.1837],\n",
       "        [0.1884],\n",
       "        [0.1655],\n",
       "        [0.1011],\n",
       "        [0.1169],\n",
       "        [0.1352],\n",
       "        [0.1353],\n",
       "        [0.1386],\n",
       "        [0.1707],\n",
       "        [0.1397],\n",
       "        [0.2140],\n",
       "        [0.1161],\n",
       "        [0.2315],\n",
       "        [0.2466],\n",
       "        [0.1373],\n",
       "        [0.0832],\n",
       "        [0.2574],\n",
       "        [0.0755],\n",
       "        [0.2039],\n",
       "        [0.1164],\n",
       "        [0.1982],\n",
       "        [0.1430],\n",
       "        [0.1203],\n",
       "        [0.1498],\n",
       "        [0.0756],\n",
       "        [0.1798],\n",
       "        [0.1843],\n",
       "        [0.1192],\n",
       "        [0.1847],\n",
       "        [0.1475],\n",
       "        [0.1229],\n",
       "        [0.1697],\n",
       "        [0.1681],\n",
       "        [0.1403],\n",
       "        [0.2445],\n",
       "        [0.1003],\n",
       "        [0.1683],\n",
       "        [0.1477],\n",
       "        [0.1724],\n",
       "        [0.1332],\n",
       "        [0.1027],\n",
       "        [0.1242],\n",
       "        [0.0747],\n",
       "        [0.2209],\n",
       "        [0.0846],\n",
       "        [0.1583],\n",
       "        [0.4255],\n",
       "        [0.1355],\n",
       "        [0.1258],\n",
       "        [0.1823],\n",
       "        [0.1468],\n",
       "        [0.1478],\n",
       "        [0.2099],\n",
       "        [0.1768],\n",
       "        [0.1019],\n",
       "        [0.1366],\n",
       "        [0.1512],\n",
       "        [0.1311],\n",
       "        [0.1814],\n",
       "        [0.1523],\n",
       "        [0.2446],\n",
       "        [0.0975],\n",
       "        [0.1956],\n",
       "        [0.2335],\n",
       "        [0.1754],\n",
       "        [0.0742],\n",
       "        [0.0868],\n",
       "        [0.1029],\n",
       "        [0.3188],\n",
       "        [0.1202],\n",
       "        [0.1808],\n",
       "        [0.1326],\n",
       "        [0.1053],\n",
       "        [0.0782],\n",
       "        [0.3048],\n",
       "        [0.2219],\n",
       "        [0.1074],\n",
       "        [0.1504],\n",
       "        [0.2033],\n",
       "        [0.1922],\n",
       "        [0.2393],\n",
       "        [0.0954],\n",
       "        [0.1861],\n",
       "        [0.2002],\n",
       "        [0.2462],\n",
       "        [0.1468],\n",
       "        [0.2611],\n",
       "        [0.2189],\n",
       "        [0.1802],\n",
       "        [0.1594],\n",
       "        [0.0594],\n",
       "        [0.1062],\n",
       "        [0.1721],\n",
       "        [0.1972],\n",
       "        [0.0942],\n",
       "        [0.2099],\n",
       "        [0.1880],\n",
       "        [0.2069],\n",
       "        [0.2642],\n",
       "        [0.1830],\n",
       "        [0.0864],\n",
       "        [0.1486],\n",
       "        [0.1531],\n",
       "        [0.3268],\n",
       "        [0.1417],\n",
       "        [0.1855],\n",
       "        [0.2156],\n",
       "        [0.0929],\n",
       "        [0.1891],\n",
       "        [0.1047],\n",
       "        [0.1372],\n",
       "        [0.1547],\n",
       "        [0.2154],\n",
       "        [0.1213],\n",
       "        [0.0965],\n",
       "        [0.2323],\n",
       "        [0.1135],\n",
       "        [0.1392],\n",
       "        [0.0824],\n",
       "        [0.1948],\n",
       "        [0.1760],\n",
       "        [0.1278],\n",
       "        [0.1283],\n",
       "        [0.1172],\n",
       "        [0.1819],\n",
       "        [0.1972],\n",
       "        [0.1077],\n",
       "        [0.2902],\n",
       "        [0.1847],\n",
       "        [0.2131],\n",
       "        [0.1851],\n",
       "        [0.1072],\n",
       "        [0.0387],\n",
       "        [0.1694],\n",
       "        [0.1643],\n",
       "        [0.1284],\n",
       "        [0.1514],\n",
       "        [0.1824],\n",
       "        [0.1350],\n",
       "        [0.1243],\n",
       "        [0.2755],\n",
       "        [0.1693],\n",
       "        [0.1353],\n",
       "        [0.1166],\n",
       "        [0.1588],\n",
       "        [0.2328],\n",
       "        [0.0741],\n",
       "        [0.1434],\n",
       "        [0.2067],\n",
       "        [0.1027],\n",
       "        [0.1658],\n",
       "        [0.1275],\n",
       "        [0.1832],\n",
       "        [0.1973],\n",
       "        [0.1021],\n",
       "        [0.1953],\n",
       "        [0.1031],\n",
       "        [0.1687],\n",
       "        [0.1862],\n",
       "        [0.1419],\n",
       "        [0.0950],\n",
       "        [0.1687],\n",
       "        [0.1151],\n",
       "        [0.1883],\n",
       "        [0.1426],\n",
       "        [0.2071],\n",
       "        [0.1129],\n",
       "        [0.1504],\n",
       "        [0.1357],\n",
       "        [0.2005],\n",
       "        [0.1850],\n",
       "        [0.1960],\n",
       "        [0.0827],\n",
       "        [0.2468],\n",
       "        [0.1754],\n",
       "        [0.1305],\n",
       "        [0.2041],\n",
       "        [0.1272],\n",
       "        [0.1395],\n",
       "        [0.1806],\n",
       "        [0.1687],\n",
       "        [0.1569],\n",
       "        [0.0810],\n",
       "        [0.0757],\n",
       "        [0.1079],\n",
       "        [0.1010],\n",
       "        [0.1712],\n",
       "        [0.1086],\n",
       "        [0.1703],\n",
       "        [0.1614],\n",
       "        [0.1579],\n",
       "        [0.2059],\n",
       "        [0.1631],\n",
       "        [0.3654],\n",
       "        [0.1122],\n",
       "        [0.1682],\n",
       "        [0.1526],\n",
       "        [0.1830],\n",
       "        [0.1931],\n",
       "        [0.1091],\n",
       "        [0.1596],\n",
       "        [0.1886],\n",
       "        [0.3092],\n",
       "        [0.2003],\n",
       "        [0.0890],\n",
       "        [0.1198],\n",
       "        [0.1840],\n",
       "        [0.1525],\n",
       "        [0.0876],\n",
       "        [0.1794],\n",
       "        [0.2240],\n",
       "        [0.2295],\n",
       "        [0.1339],\n",
       "        [0.1531],\n",
       "        [0.1722],\n",
       "        [0.1618],\n",
       "        [0.1117],\n",
       "        [0.2234],\n",
       "        [0.1190],\n",
       "        [0.0861],\n",
       "        [0.1623],\n",
       "        [0.2189],\n",
       "        [0.1871],\n",
       "        [0.1603],\n",
       "        [0.1203],\n",
       "        [0.1830],\n",
       "        [0.0744],\n",
       "        [0.1181],\n",
       "        [0.1508],\n",
       "        [0.2312],\n",
       "        [0.1152],\n",
       "        [0.1802],\n",
       "        [0.1689],\n",
       "        [0.0944],\n",
       "        [0.1576],\n",
       "        [0.1709],\n",
       "        [0.1715],\n",
       "        [0.1854],\n",
       "        [0.1792],\n",
       "        [0.2093],\n",
       "        [0.0818],\n",
       "        [0.1811],\n",
       "        [0.1135],\n",
       "        [0.1416],\n",
       "        [0.0877],\n",
       "        [0.0496],\n",
       "        [0.0791],\n",
       "        [0.1524],\n",
       "        [0.2604],\n",
       "        [0.1622],\n",
       "        [0.1767],\n",
       "        [0.1924],\n",
       "        [0.2252],\n",
       "        [0.1085],\n",
       "        [0.1179],\n",
       "        [0.1074],\n",
       "        [0.2017],\n",
       "        [0.1472]], grad_fn=<AddmmBackward0>)"
      ]
     },
     "execution_count": 61,
     "metadata": {},
     "output_type": "execute_result"
    }
   ],
   "source": [
    "# another sanity-check: run a batch of data through\n",
    "\n",
    "littleData = next(iter(train_loader))\n",
    "y = net(littleData[0])\n",
    "y"
   ]
  },
  {
   "cell_type": "markdown",
   "metadata": {
    "id": "IuCixgNfDMZS"
   },
   "source": [
    "# Train the model"
   ]
  },
  {
   "cell_type": "code",
   "execution_count": 62,
   "metadata": {
    "id": "0XRPe56rGp2k"
   },
   "outputs": [],
   "source": [
    "# a function that trains the model\n",
    "\n",
    "# global parameter\n",
    "numepochs = 3000\n",
    "\n",
    "def trainTheModel():\n",
    "\n",
    "  # loss function and optimizer\n",
    "  lossfun = nn.BCEWithLogitsLoss()\n",
    "  optimizer = torch.optim.Adam(winenet.parameters(),lr=.001)\n",
    "\n",
    "  # initialize losses\n",
    "  losses   = torch.zeros(numepochs)\n",
    "  trainAcc = []\n",
    "  testAcc  = []\n",
    "\n",
    "  # loop over epochs\n",
    "  for epochi in range(numepochs):\n",
    "\n",
    "    # switch on training mode\n",
    "    winenet.train()\n",
    "\n",
    "    # loop over training data batches\n",
    "    batchAcc  = []\n",
    "    batchLoss = []\n",
    "    for X,y in train_loader:\n",
    "\n",
    "      # forward pass and loss\n",
    "      yHat = winenet(X)\n",
    "      loss = lossfun(yHat,y)\n",
    "\n",
    "      # backprop\n",
    "      optimizer.zero_grad()\n",
    "      loss.backward()\n",
    "      optimizer.step()\n",
    "\n",
    "      # loss from this batch\n",
    "      batchLoss.append(loss.item())\n",
    "\n",
    "      # compute training accuracy for this batch\n",
    "      batchAcc.append( 100*torch.mean(((yHat>0) == y).float()).item() )\n",
    "    # end of batch loop...\n",
    "\n",
    "    # now that we've trained through the batches, get their average training accuracy\n",
    "    trainAcc.append( np.mean(batchAcc) )\n",
    "\n",
    "    # and get average losses across the batches\n",
    "    losses[epochi] = np.mean(batchLoss)\n",
    "\n",
    "    # test accuracy\n",
    "    winenet.eval()\n",
    "    X,y = next(iter(test_loader)) # extract X,y from test dataloader\n",
    "    with torch.no_grad(): # deactivates autograd\n",
    "      yHat = winenet(X)\n",
    "    testAcc.append( 100*torch.mean(((yHat>0) == y).float()).item() )\n",
    "  \n",
    "  # function output\n",
    "  return trainAcc,testAcc,losses"
   ]
  },
  {
   "cell_type": "code",
   "execution_count": 63,
   "metadata": {
    "id": "oL7EqhYjGp51"
   },
   "outputs": [],
   "source": [
    "# create a new model instance\n",
    "winenet = ANNwine()\n",
    "\n",
    "# train the model\n",
    "trainAcc,testAcc,losses = trainTheModel()\n"
   ]
  },
  {
   "cell_type": "code",
   "execution_count": 64,
   "metadata": {
    "id": "_7mAB4utDMeh"
   },
   "outputs": [
    {
     "data": {
      "image/png": "[encoded data removed]",
      "text/plain": [
       "<Figure size 1400x700 with 1 Axes>"
      ]
     },
     "metadata": {},
     "output_type": "display_data"
    }
   ],
   "source": [
    "# plot some results\n",
    "fig = plt.figure(figsize=(14,7))\n",
    "\n",
    "plt.plot(trainAcc,'bs')\n",
    "plt.plot(testAcc,'r')\n",
    "plt.legend(['Train','Test'])\n",
    "plt.xlabel('Epoch')\n",
    "plt.ylabel('Accuracy (%)')\n",
    "plt.ylim([50,100])\n",
    "plt.grid()\n",
    "plt.show()"
   ]
  },
  {
   "cell_type": "code",
   "execution_count": null,
   "metadata": {},
   "outputs": [],
   "source": []
  }
 ],
 "metadata": {
  "colab": {
   "authorship_tag": "ABX9TyM5ymxTQSP7Gl8NiBNUhnin",
   "collapsed_sections": [],
   "name": "DUDL_metaparams_codeChallengeDropout.ipynb",
   "provenance": [
    {
     "file_id": "1ZD_ADbh6qrlHE16V7Yc8VF9Vrn2c6bMQ",
     "timestamp": 1617047133469
    }
   ]
  },
  "kernelspec": {
   "display_name": "Python 3 (ipykernel)",
   "language": "python",
   "name": "python3"
  },
  "language_info": {
   "codemirror_mode": {
    "name": "ipython",
    "version": 3
   },
   "file_extension": ".py",
   "mimetype": "text/x-python",
   "name": "python",
   "nbconvert_exporter": "python",
   "pygments_lexer": "ipython3",
   "version": "3.11.4"
  }
 },
 "nbformat": 4,
 "nbformat_minor": 1
}
