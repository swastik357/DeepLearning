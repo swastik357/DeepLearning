{
 "cells": [
  {
   "cell_type": "markdown",
   "metadata": {
    "id": "bhWV8oes-wKR"
   },
   "source": [
    "# COURSE: A deep understanding of deep learning\n",
    "## SECTION: Overfitting, cross-validation, regularization\n",
    "### LECTURE: Cross-validation -- DataLoader\n",
    "#### TEACHER: Mike X Cohen, sincxpress.com\n",
    "##### COURSE URL: udemy.com/course/deeplearning_x/?couponCode=202305"
   ]
  },
  {
   "cell_type": "code",
   "execution_count": 271,
   "metadata": {
    "id": "YeuAheYyhdZw"
   },
   "outputs": [],
   "source": [
    "# import libraries\n",
    "import torch\n",
    "import torch.nn as nn\n",
    "import numpy as np\n",
    "import matplotlib.pyplot as plt\n",
    "from sklearn.model_selection import train_test_split\n",
    "\n",
    "# new!\n",
    "from torch.utils.data import DataLoader,TensorDataset"
   ]
  },
  {
   "cell_type": "code",
   "execution_count": 272,
   "metadata": {
    "id": "MU7rvmWuhjud"
   },
   "outputs": [],
   "source": [
    "# import dataset (comes with seaborn)\n",
    "import seaborn as sns\n",
    "iris = sns.load_dataset('iris')\n",
    "\n",
    "\n",
    "# convert from pandas dataframe to tensor\n",
    "data = torch.tensor( iris[iris.columns[0:4]].values ).float()\n",
    "\n",
    "# transform species to number\n",
    "labels = torch.zeros(len(data), dtype=torch.long)\n",
    "# labels[iris.species=='setosa'] = 0 # don't need!\n",
    "labels[iris.species=='versicolor'] = 1\n",
    "labels[iris.species=='virginica'] = 2"
   ]
  },
  {
   "cell_type": "markdown",
   "metadata": {
    "id": "UhkvsJ6g6uXr"
   },
   "source": [
    "# A brief aside on using DataLoader"
   ]
  },
  {
   "cell_type": "code",
   "execution_count": 273,
   "metadata": {
    "id": "q-YUb7pW19yy"
   },
   "outputs": [
    {
     "name": "stdout",
     "output_type": "stream",
     "text": [
      "[[ 11  12  13  14]\n",
      " [ 21  22  23  24]\n",
      " [ 31  32  33  34]\n",
      " [ 41  42  43  44]\n",
      " [ 51  52  53  54]\n",
      " [ 61  62  63  64]\n",
      " [ 71  72  73  74]\n",
      " [ 81  82  83  84]\n",
      " [ 91  92  93  94]\n",
      " [101 102 103 104]]\n",
      " \n",
      "[False False False False False  True  True  True  True  True]\n"
     ]
    }
   ],
   "source": [
    "# create our fake dataset\n",
    "\n",
    "fakedata = np.tile(np.array([1,2,3,4]),(10,1)) + np.tile(10*np.arange(1,11),(4,1)).T\n",
    "fakelabels = np.arange(10)>4\n",
    "print(fakedata), print(' ')\n",
    "print(fakelabels)"
   ]
  },
  {
   "cell_type": "code",
   "execution_count": 274,
   "metadata": {
    "id": "NHmo6JauuDC9"
   },
   "outputs": [
    {
     "name": "stdout",
     "output_type": "stream",
     "text": [
      "<torch.utils.data.dataloader.DataLoader object at 0x1479c46d0>\n",
      "1\n"
     ]
    }
   ],
   "source": [
    "# dataloader object with all data\n",
    "fakedataLdr = DataLoader(fakedata, shuffle=True)\n",
    "print( fakedataLdr )\n",
    "print( fakedataLdr.batch_size )"
   ]
  },
  {
   "cell_type": "code",
   "execution_count": 275,
   "metadata": {
    "id": "Mhra6BvlyoEf"
   },
   "outputs": [
    {
     "name": "stdout",
     "output_type": "stream",
     "text": [
      "0 tensor([[81, 82, 83, 84]]) torch.Size([1, 4])\n",
      "1 tensor([[21, 22, 23, 24]]) torch.Size([1, 4])\n",
      "2 tensor([[61, 62, 63, 64]]) torch.Size([1, 4])\n",
      "3 tensor([[101, 102, 103, 104]]) torch.Size([1, 4])\n",
      "4 tensor([[31, 32, 33, 34]]) torch.Size([1, 4])\n",
      "5 tensor([[71, 72, 73, 74]]) torch.Size([1, 4])\n",
      "6 tensor([[41, 42, 43, 44]]) torch.Size([1, 4])\n",
      "7 tensor([[51, 52, 53, 54]]) torch.Size([1, 4])\n",
      "8 tensor([[11, 12, 13, 14]]) torch.Size([1, 4])\n",
      "9 tensor([[91, 92, 93, 94]]) torch.Size([1, 4])\n"
     ]
    }
   ],
   "source": [
    "# iterate through the data\n",
    "for i,oneSample in enumerate(fakedataLdr):\n",
    "  print(i,oneSample,oneSample.shape)\n",
    "\n",
    "# but where are the labels??"
   ]
  },
  {
   "cell_type": "code",
   "execution_count": 276,
   "metadata": {
    "id": "MEpWWAY0-rQw"
   },
   "outputs": [
    {
     "name": "stdout",
     "output_type": "stream",
     "text": [
      "(tensor([[ 11.,  12.,  13.,  14.],\n",
      "        [ 21.,  22.,  23.,  24.],\n",
      "        [ 31.,  32.,  33.,  34.],\n",
      "        [ 41.,  42.,  43.,  44.],\n",
      "        [ 51.,  52.,  53.,  54.],\n",
      "        [ 61.,  62.,  63.,  64.],\n",
      "        [ 71.,  72.,  73.,  74.],\n",
      "        [ 81.,  82.,  83.,  84.],\n",
      "        [ 91.,  92.,  93.,  94.],\n",
      "        [101., 102., 103., 104.]]), tensor([0., 0., 0., 0., 0., 1., 1., 1., 1., 1.]))\n",
      " \n",
      "tensor([[61., 62., 63., 64.]]) tensor([1.])\n",
      "tensor([[11., 12., 13., 14.]]) tensor([0.])\n",
      "tensor([[21., 22., 23., 24.]]) tensor([0.])\n",
      "tensor([[31., 32., 33., 34.]]) tensor([0.])\n",
      "tensor([[101., 102., 103., 104.]]) tensor([1.])\n",
      "tensor([[91., 92., 93., 94.]]) tensor([1.])\n",
      "tensor([[81., 82., 83., 84.]]) tensor([1.])\n",
      "tensor([[51., 52., 53., 54.]]) tensor([0.])\n",
      "tensor([[71., 72., 73., 74.]]) tensor([1.])\n",
      "tensor([[41., 42., 43., 44.]]) tensor([0.])\n"
     ]
    }
   ],
   "source": [
    "# we need to create a Dataset that contains the data and labels\n",
    "fakeDataset = TensorDataset(torch.Tensor(fakedata),torch.Tensor(fakelabels))\n",
    "print( fakeDataset.tensors ), print(' ')\n",
    "\n",
    "# then create another DataLoader\n",
    "fakedataLdr = DataLoader(fakeDataset, shuffle=True)\n",
    "\n",
    "# iterate through the data\n",
    "for dat,lab in fakedataLdr:\n",
    "  print(dat,lab)"
   ]
  },
  {
   "cell_type": "code",
   "execution_count": 277,
   "metadata": {
    "id": "8bxbHGkP7JW3"
   },
   "outputs": [],
   "source": [
    "# use scikitlearn to split the data\n",
    "train_data,test_data, train_labels,test_labels = train_test_split(fakedata, fakelabels, test_size=.2)\n",
    "\n",
    "# then convert them into PyTorch Datasets\n",
    "train_data = TensorDataset(\n",
    "     torch.Tensor(train_data),torch.Tensor(train_labels))\n",
    "\n",
    "test_data = TensorDataset(\n",
    "     torch.Tensor(test_data),torch.Tensor(test_labels))\n",
    "\n",
    "# finally, translate into dataloader objectsx\n",
    "# notice the batches (see next cell)!\n",
    "train_loader = DataLoader(train_data,batch_size=4)\n",
    "test_loader  = DataLoader(test_data)"
   ]
  },
  {
   "cell_type": "code",
   "execution_count": 278,
   "metadata": {
    "id": "0dtEZQwG626X"
   },
   "outputs": [
    {
     "name": "stdout",
     "output_type": "stream",
     "text": [
      "TRAINING DATA\n",
      "tensor([[31., 32., 33., 34.],\n",
      "        [51., 52., 53., 54.],\n",
      "        [61., 62., 63., 64.],\n",
      "        [71., 72., 73., 74.]]) tensor([0., 0., 1., 1.])\n",
      " \n",
      "tensor([[101., 102., 103., 104.],\n",
      "        [ 41.,  42.,  43.,  44.],\n",
      "        [ 21.,  22.,  23.,  24.],\n",
      "        [ 91.,  92.,  93.,  94.]]) tensor([1., 0., 0., 1.])\n",
      " \n",
      " \n",
      "TESTING DATA\n",
      "tensor([[81., 82., 83., 84.]]) tensor([1.])\n",
      " \n",
      "tensor([[11., 12., 13., 14.]]) tensor([0.])\n",
      " \n"
     ]
    }
   ],
   "source": [
    "# examine the contents of the dataloader (batching is an advantage of dataloader!)\n",
    "print('TRAINING DATA')\n",
    "for batch,label in train_loader: # iterable\n",
    "  print(batch,label)\n",
    "  print(' ')\n",
    "\n",
    "\n",
    "print(' ')\n",
    "print('TESTING DATA')\n",
    "for batch,label in test_loader: # iterable\n",
    "  print(batch,label)\n",
    "  print(' ')"
   ]
  },
  {
   "cell_type": "markdown",
   "metadata": {
    "id": "S-GvjKA8AesK"
   },
   "source": [
    "# Now back to the real data!"
   ]
  },
  {
   "cell_type": "code",
   "execution_count": 279,
   "metadata": {
    "id": "OVrlOHYIAg0r"
   },
   "outputs": [],
   "source": [
    "# use scikitlearn to split the data\n",
    "train_data,test_data, train_labels,test_labels = \\\n",
    "                              train_test_split(data, labels, train_size=.8)\n",
    "\n",
    "\n",
    "# then convert them into PyTorch Datasets (note: already converted to tensors)\n",
    "train_data = TensorDataset(train_data,train_labels)\n",
    "test_data  = TensorDataset(test_data,test_labels)\n",
    "\n",
    "\n",
    "# finally, translate into dataloader objects\n",
    "train_loader = DataLoader(train_data,shuffle=True,batch_size=12)\n",
    "test_loader  = DataLoader(test_data,batch_size=test_data.tensors[0].shape[0])"
   ]
  },
  {
   "cell_type": "code",
   "execution_count": 280,
   "metadata": {
    "id": "yZUIX6Exdc3m"
   },
   "outputs": [
    {
     "name": "stdout",
     "output_type": "stream",
     "text": [
      "torch.Size([12, 4]) torch.Size([12])\n",
      "torch.Size([12, 4]) torch.Size([12])\n",
      "torch.Size([12, 4]) torch.Size([12])\n",
      "torch.Size([12, 4]) torch.Size([12])\n",
      "torch.Size([12, 4]) torch.Size([12])\n",
      "torch.Size([12, 4]) torch.Size([12])\n",
      "torch.Size([12, 4]) torch.Size([12])\n",
      "torch.Size([12, 4]) torch.Size([12])\n",
      "torch.Size([12, 4]) torch.Size([12])\n",
      "torch.Size([12, 4]) torch.Size([12])\n"
     ]
    },
    {
     "data": {
      "text/plain": [
       "(tensor([[5.9000, 3.2000, 4.8000, 1.8000],\n",
       "         [5.0000, 3.6000, 1.4000, 0.2000],\n",
       "         [5.0000, 3.0000, 1.6000, 0.2000],\n",
       "         [4.8000, 3.4000, 1.6000, 0.2000],\n",
       "         [5.7000, 4.4000, 1.5000, 0.4000],\n",
       "         [5.5000, 3.5000, 1.3000, 0.2000],\n",
       "         [6.0000, 2.7000, 5.1000, 1.6000],\n",
       "         [5.9000, 3.0000, 4.2000, 1.5000],\n",
       "         [5.7000, 2.8000, 4.1000, 1.3000],\n",
       "         [6.9000, 3.1000, 5.1000, 2.3000],\n",
       "         [6.8000, 3.2000, 5.9000, 2.3000],\n",
       "         [6.1000, 2.8000, 4.7000, 1.2000]]),\n",
       " tensor([1, 0, 0, 0, 0, 0, 1, 1, 1, 2, 2, 1]))"
      ]
     },
     "execution_count": 280,
     "metadata": {},
     "output_type": "execute_result"
    }
   ],
   "source": [
    "# check sizes of data batches\n",
    "for X,y in train_loader:\n",
    "  print(X.shape,y.shape)\n",
    "\n",
    "X,y"
   ]
  },
  {
   "cell_type": "code",
   "execution_count": 281,
   "metadata": {
    "id": "v0JMIGb1iV_9"
   },
   "outputs": [],
   "source": [
    "# a function that creates the ANN model\n",
    "\n",
    "def createANewModel():\n",
    "\n",
    "  # model architecture\n",
    "  ANNiris = nn.Sequential(\n",
    "      nn.Linear(4,64),   # input layer\n",
    "      nn.ReLU(),         # activation unit\n",
    "      nn.Linear(64,64),  # hidden layer\n",
    "      nn.ReLU(),         # activation unit\n",
    "      nn.Linear(64,3),   # output units\n",
    "        )\n",
    "\n",
    "  # loss function\n",
    "  lossfun = nn.CrossEntropyLoss()\n",
    "\n",
    "  # optimizer\n",
    "  optimizer = torch.optim.SGD(ANNiris.parameters(),lr=.01)\n",
    "\n",
    "  return ANNiris,lossfun,optimizer"
   ]
  },
  {
   "cell_type": "code",
   "execution_count": 292,
   "metadata": {
    "id": "cVD1nFTli7TO"
   },
   "outputs": [],
   "source": [
    "# train the model\n",
    "\n",
    "# global parameter\n",
    "numepochs = 500\n",
    "\n",
    "def trainTheModel():\n",
    "\n",
    "  # initialize accuracies as empties (not storing losses here)\n",
    "  trainAcc = []\n",
    "  testAcc  = []\n",
    "  trainLosses = []\n",
    "\n",
    "  # loop over epochs\n",
    "  for epochi in range(numepochs):\n",
    "\n",
    "    # loop over training data batches\n",
    "    batchAcc = []\n",
    "    batchLoss = []\n",
    "    for X,y in train_loader:\n",
    "\n",
    "      # forward pass and loss\n",
    "      yHat = ANNiris(X)\n",
    "      loss = lossfun(yHat,y)\n",
    "      batchLoss.append(loss.detach().item())\n",
    "      \n",
    "      # backprop\n",
    "      optimizer.zero_grad()\n",
    "      loss.backward()\n",
    "      optimizer.step()\n",
    "\n",
    "      # compute training accuracy just for this batch\n",
    "      batchAcc.append( 100*torch.mean((torch.argmax(yHat,axis=1) == y).float()).item() )\n",
    "    # end of batch loop...\n",
    "\n",
    "\n",
    "    # now that we've trained through the batches, get their average training accuracy\n",
    "    trainAcc.append( np.mean(batchAcc) )\n",
    "    trainLosses.append( np.mean(batchLoss) ) \n",
    "    # test accuracy\n",
    "    X,y = next(iter(test_loader)) # extract X,y from test dataloader\n",
    "    predlabels = torch.argmax( ANNiris(X),axis=1 )\n",
    "    testAcc.append( 100*torch.mean((predlabels == y).float()).item() )\n",
    "  \n",
    "  # function output\n",
    "  return trainAcc,testAcc,trainLosses\n"
   ]
  },
  {
   "cell_type": "markdown",
   "metadata": {
    "id": "Mqju_wOaQiaa"
   },
   "source": [
    "# Modeling"
   ]
  },
  {
   "cell_type": "code",
   "execution_count": 293,
   "metadata": {
    "id": "vXku7xIdcu7Y"
   },
   "outputs": [],
   "source": [
    "# create a model\n",
    "ANNiris,lossfun,optimizer = createANewModel()\n",
    "\n",
    "# train the model\n",
    "trainAcc,testAcc,trainLosses = trainTheModel()"
   ]
  },
  {
   "cell_type": "code",
   "execution_count": 294,
   "metadata": {
    "id": "JYouZAY4i3jM"
   },
   "outputs": [
    {
     "data": {
      "image/png": "[encoded data removed]",
      "text/plain": [
       "<Figure size 1000x500 with 1 Axes>"
      ]
     },
     "metadata": {},
     "output_type": "display_data"
    }
   ],
   "source": [
    "# plot the results\n",
    "fig = plt.figure(figsize=(10,5))\n",
    "\n",
    "plt.plot(trainAcc,'ro-')\n",
    "plt.plot(testAcc,'bs-')\n",
    "plt.xlabel('Epochs')\n",
    "plt.ylabel('Accuracy (%)')\n",
    "plt.legend(['Train','Test'])\n",
    "\n",
    "# optional zoom-in to final epochs\n",
    "# plt.xlim([300,500])\n",
    "# plt.ylim([90,100.5])\n",
    "\n",
    "plt.show()"
   ]
  },
  {
   "cell_type": "code",
   "execution_count": 297,
   "metadata": {
    "id": "pkrHp6IPZ4U8"
   },
   "outputs": [
    {
     "data": {
      "image/png": "[encoded data removed]",
      "text/plain": [
       "<Figure size 1000x500 with 1 Axes>"
      ]
     },
     "metadata": {},
     "output_type": "display_data"
    }
   ],
   "source": [
    "fig = plt.figure(figsize=(10,5))\n",
    "\n",
    "plt.plot(trainLosses,'ro-')\n",
    "plt.xlabel('Epochs')\n",
    "plt.ylabel('training Loss')\n",
    "plt.legend(['Train Loss'])\n",
    "\n",
    "# optional zoom-in to final epochs\n",
    "# plt.xlim([300,500])\n",
    "# plt.ylim([90,100.5])\n",
    "\n",
    "plt.show()"
   ]
  },
  {
   "cell_type": "code",
   "execution_count": null,
   "metadata": {},
   "outputs": [],
   "source": []
  },
  {
   "cell_type": "markdown",
   "metadata": {
    "id": "jjvdKsrdZ4ka"
   },
   "source": [
    "# Additional explorations"
   ]
  },
  {
   "cell_type": "code",
   "execution_count": 285,
   "metadata": {
    "id": "5EPeV1KZZ42b"
   },
   "outputs": [],
   "source": [
    "# 1) Read the help doc for the train_test_split() function, in particular to understand what the 'shuffle' option does.\n",
    "#    What is the default value? Run the code again, switching the shuffling off. How does that affect model performance? Why?\n",
    "# MY COMMENTS: DEFAULT VALUE is True. On making it False, the test accuracy decreases significantly because labels are in order 0 followed by 1 followed by 2. Hence training on mostly 0 and 1 is not able to predict 2 (in test)\n",
    "# 2) The model training loop does not keep track of the losses. Modify the code to store the loss value on each epoch, include\n",
    "#    it as an output of the training function, and then make a plot of the training losses. Try to do it without looking\n",
    "#    at other code files!\n",
    "# MY COMMENTS: INCORPORATED IN CODE"
   ]
  }
 ],
 "metadata": {
  "colab": {
   "authorship_tag": "ABX9TyMW1OqO2AtUHsx15bm8vDS1",
   "collapsed_sections": [],
   "name": "DUDL_overfitting_dataLoader.ipynb",
   "provenance": [
    {
     "file_id": "1GMq8u7KyHB2AE7Teyls9gK1T01OduQSn",
     "timestamp": 1616697516760
    },
    {
     "file_id": "1Ui3kyHim-e0XLgDs2mkBxVlYg7TKYtcg",
     "timestamp": 1616615469755
    },
    {
     "file_id": "1YpHocGI4rApOxIBb1ZghCU5L-hFnv4CK",
     "timestamp": 1616608248670
    }
   ]
  },
  "kernelspec": {
   "display_name": "Python 3 (ipykernel)",
   "language": "python",
   "name": "python3"
  },
  "language_info": {
   "codemirror_mode": {
    "name": "ipython",
    "version": 3
   },
   "file_extension": ".py",
   "mimetype": "text/x-python",
   "name": "python",
   "nbconvert_exporter": "python",
   "pygments_lexer": "ipython3",
   "version": "3.11.4"
  }
 },
 "nbformat": 4,
 "nbformat_minor": 1
}
