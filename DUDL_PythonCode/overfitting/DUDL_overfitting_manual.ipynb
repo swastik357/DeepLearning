{
 "cells": [
  {
   "cell_type": "markdown",
   "metadata": {
    "id": "bhWV8oes-wKR"
   },
   "source": [
    "# COURSE: A deep understanding of deep learning\n",
    "## SECTION: Overfitting, cross-validation, regularization\n",
    "### LECTURE: Cross-validation -- manual separation\n",
    "#### TEACHER: Mike X Cohen, sincxpress.com\n",
    "##### COURSE URL: udemy.com/course/deeplearning_x/?couponCode=202305"
   ]
  },
  {
   "cell_type": "code",
   "execution_count": 160,
   "metadata": {
    "id": "YeuAheYyhdZw"
   },
   "outputs": [],
   "source": [
    "# import libraries\n",
    "import torch\n",
    "import torch.nn as nn\n",
    "import numpy as np"
   ]
  },
  {
   "cell_type": "code",
   "execution_count": 161,
   "metadata": {
    "id": "MU7rvmWuhjud"
   },
   "outputs": [],
   "source": [
    "# import dataset (comes with seaborn)\n",
    "import seaborn as sns\n",
    "iris = sns.load_dataset('iris')\n",
    "\n",
    "\n",
    "# convert from pandas dataframe to tensor\n",
    "data = torch.tensor( iris[iris.columns[0:4]].values ).float()\n",
    "\n",
    "# transform species to number\n",
    "labels = torch.zeros(len(data), dtype=torch.long)\n",
    "# labels[iris.species=='setosa'] = 0 # don't need!\n",
    "labels[iris.species=='versicolor'] = 1\n",
    "labels[iris.species=='virginica'] = 2"
   ]
  },
  {
   "cell_type": "markdown",
   "metadata": {
    "id": "JiAFAHB20DQc"
   },
   "source": [
    "# Separate data into train and test"
   ]
  },
  {
   "cell_type": "code",
   "execution_count": 162,
   "metadata": {
    "id": "mwhgV43SXbCN"
   },
   "outputs": [],
   "source": [
    "#  (no devset here)\n",
    "\n",
    "# how many training examples\n",
    "propTraining = .8 # in proportion, not percent\n",
    "nTraining = int(len(labels)*propTraining)\n",
    "\n",
    "# initialize a boolean vector to select data and labels\n",
    "traintestBool = np.zeros(len(labels),dtype=bool)\n",
    "\n",
    "# is this the correct way to select samples?\n",
    "traintestBool[range(nTraining)] = True\n",
    "\n",
    "# this is better, but why?\n",
    "#items2use4train = np.random.choice(range(len(labels)),nTraining,replace=False)\n",
    "#traintestBool[items2use4train] = True\n",
    "#traintestBool\n",
    "\n",
    "# items2use4train = np.random.choice(range(len(labels)//3),nTraining//3,replace=False)\n",
    "# items2use4trainExtended = np.append(items2use4train,50+items2use4train)\n",
    "# items2use4trainExtended = np.append(items2use4trainExtended,100+items2use4train)\n",
    "# traintestBool[items2use4trainExtended] = True\n",
    "# items2use4trainExtended"
   ]
  },
  {
   "cell_type": "code",
   "execution_count": 163,
   "metadata": {
    "id": "LPcj_f92bYs0"
   },
   "outputs": [
    {
     "name": "stdout",
     "output_type": "stream",
     "text": [
      "Average of full data:\n",
      "tensor(1.)\n",
      " \n",
      "Average of training data:\n",
      "tensor(0.7500)\n",
      " \n",
      "Average of test data:\n",
      "tensor(2.)\n"
     ]
    }
   ],
   "source": [
    "# test whether it's balanced\n",
    "print('Average of full data:')\n",
    "print( torch.mean(labels.float()) ) # =1 by definition\n",
    "print(' ')\n",
    "\n",
    "print('Average of training data:')\n",
    "print( torch.mean(labels[traintestBool].float()) ) # should be 1...\n",
    "print(' ')\n",
    "\n",
    "print('Average of test data:')\n",
    "print( torch.mean(labels[~traintestBool].float()) ) # should also be 1..."
   ]
  },
  {
   "cell_type": "code",
   "execution_count": 164,
   "metadata": {},
   "outputs": [
    {
     "name": "stdout",
     "output_type": "stream",
     "text": [
      "tensor([0., 0., 0., 0., 0., 0., 0., 0., 0., 0., 0., 0., 0., 0., 0., 0., 0., 0.,\n",
      "        0., 0., 0., 0., 0., 0., 0., 0., 0., 0., 0., 0., 0., 0., 0., 0., 0., 0.,\n",
      "        0., 0., 0., 0., 0., 0., 0., 0., 0., 0., 0., 0., 0., 0., 1., 1., 1., 1.,\n",
      "        1., 1., 1., 1., 1., 1., 1., 1., 1., 1., 1., 1., 1., 1., 1., 1., 1., 1.,\n",
      "        1., 1., 1., 1., 1., 1., 1., 1., 1., 1., 1., 1., 1., 1., 1., 1., 1., 1.,\n",
      "        1., 1., 1., 1., 1., 1., 1., 1., 1., 1., 2., 2., 2., 2., 2., 2., 2., 2.,\n",
      "        2., 2., 2., 2., 2., 2., 2., 2., 2., 2., 2., 2.])\n"
     ]
    }
   ],
   "source": [
    "print(labels[traintestBool].float())"
   ]
  },
  {
   "cell_type": "code",
   "execution_count": 165,
   "metadata": {
    "id": "v0JMIGb1iV_9"
   },
   "outputs": [],
   "source": [
    "# create the ANN model\n",
    "\n",
    "# model architecture\n",
    "ANNiris = nn.Sequential(\n",
    "    nn.Linear(4,64),   # input layer\n",
    "    nn.ReLU(),         # activation unit\n",
    "    nn.Linear(64,64),  # hidden layer\n",
    "    nn.ReLU(),         # activation unit\n",
    "    nn.Linear(64,3),   # output units\n",
    "      )\n",
    "\n",
    "# loss function\n",
    "lossfun = nn.CrossEntropyLoss()\n",
    "\n",
    "# optimizer\n",
    "optimizer = torch.optim.SGD(ANNiris.parameters(),lr=.01)"
   ]
  },
  {
   "cell_type": "code",
   "execution_count": 166,
   "metadata": {
    "id": "iyxr6_P9b-x5"
   },
   "outputs": [
    {
     "name": "stdout",
     "output_type": "stream",
     "text": [
      "torch.Size([150, 4])\n",
      "torch.Size([120, 4])\n",
      "torch.Size([30, 4])\n"
     ]
    }
   ],
   "source": [
    "# entire dataset\n",
    "print( data.shape )\n",
    "\n",
    "# training set\n",
    "print( data[traintestBool,:].shape )\n",
    "\n",
    "# test set\n",
    "print( data[~traintestBool,:].shape )"
   ]
  },
  {
   "cell_type": "markdown",
   "metadata": {
    "id": "bbx3Zkc_0UT8"
   },
   "source": [
    "# Train and test the model"
   ]
  },
  {
   "cell_type": "code",
   "execution_count": 167,
   "metadata": {
    "id": "cVD1nFTli7TO"
   },
   "outputs": [],
   "source": [
    "# train the model\n",
    "\n",
    "numepochs = 1000\n",
    "\n",
    "# initialize losses\n",
    "losses = torch.zeros(numepochs)\n",
    "ongoingAcc = []\n",
    "\n",
    "# loop over epochs\n",
    "for epochi in range(numepochs):\n",
    "\n",
    "  # forward pass\n",
    "  yHat = ANNiris(data[traintestBool,:])\n",
    "\n",
    "  # compute accuracy (note: denser than previous code!)\n",
    "  ongoingAcc.append( 100*torch.mean(\n",
    "              (torch.argmax(yHat,axis=1) == labels[traintestBool]).float()) )\n",
    "\n",
    "  # compute loss\n",
    "  loss = lossfun(yHat,labels[traintestBool])\n",
    "  losses[epochi] = loss\n",
    "\n",
    "  # backprop\n",
    "  optimizer.zero_grad()\n",
    "  loss.backward()\n",
    "  optimizer.step()"
   ]
  },
  {
   "cell_type": "code",
   "execution_count": 168,
   "metadata": {
    "id": "vXku7xIdcu7Y"
   },
   "outputs": [],
   "source": [
    "# compute train and test accuracies\n",
    "\n",
    "# final forward pass USING TRAINING DATA\n",
    "predictionsTrain = ANNiris(data[traintestBool,:])\n",
    "trainacc = 100*torch.mean((torch.argmax(predictionsTrain,axis=1) == labels[traintestBool]).float())\n",
    "\n",
    "\n",
    "# final forward pass USING TEST DATA!\n",
    "predictionsTest = ANNiris(data[~traintestBool,:])\n",
    "testacc = 100*torch.mean((torch.argmax(predictionsTest,axis=1) == labels[~traintestBool]).float())"
   ]
  },
  {
   "cell_type": "code",
   "execution_count": 169,
   "metadata": {
    "id": "JYouZAY4i3jM"
   },
   "outputs": [
    {
     "name": "stdout",
     "output_type": "stream",
     "text": [
      "Final TRAIN accuracy: 98.3333%\n",
      "Final TEST accuracy:  70%\n"
     ]
    }
   ],
   "source": [
    "# report accuracies\n",
    "\n",
    "print('Final TRAIN accuracy: %g%%' %trainacc)\n",
    "print('Final TEST accuracy:  %g%%' %testacc)"
   ]
  },
  {
   "cell_type": "code",
   "execution_count": 170,
   "metadata": {
    "id": "kcbD9nZmd9nu"
   },
   "outputs": [],
   "source": [
    "# normally also inspect losses and accuracy by epoch, etc etc etc."
   ]
  },
  {
   "cell_type": "code",
   "execution_count": 171,
   "metadata": {
    "id": "MAzQqbq8fqSt"
   },
   "outputs": [],
   "source": [
    "label0Testaccurate = torch.sum(torch.logical_and(torch.argmax(predictionsTest,axis=1) == 0,labels[~traintestBool] == 0)).item()\n",
    "label1Testaccurate = torch.sum(torch.logical_and(torch.argmax(predictionsTest,axis=1) == 1,labels[~traintestBool] == 1)).item()\n",
    "label2Testaccurate = torch.sum(torch.logical_and(torch.argmax(predictionsTest,axis=1) == 2,labels[~traintestBool] == 2)).item()\n",
    "\n",
    "label0Trainaccurate = torch.sum(torch.logical_and(torch.argmax(predictionsTrain,axis=1) == 0,labels[traintestBool] == 0)).item()\n",
    "label1Trainaccurate = torch.sum(torch.logical_and(torch.argmax(predictionsTrain,axis=1) == 1,labels[traintestBool] == 1)).item()\n",
    "label2Trainaccurate = torch.sum(torch.logical_and(torch.argmax(predictionsTrain,axis=1) == 2,labels[traintestBool] == 2)).item()"
   ]
  },
  {
   "cell_type": "code",
   "execution_count": 182,
   "metadata": {},
   "outputs": [
    {
     "name": "stdout",
     "output_type": "stream",
     "text": [
      "label0Trainaccurate:  50\n",
      "label0Testaccurate:  0\n",
      "label1Trainaccurate:  49\n",
      "label1Testaccurate:  0\n",
      "label2Trainaccurate:  19\n",
      "label2Testaccurate:  21\n"
     ]
    }
   ],
   "source": [
    "print('label0Trainaccurate: ',label0Trainaccurate )\n",
    "print('label0Testaccurate: ',label0Testaccurate )\n",
    "\n",
    "print('label1Trainaccurate: ',label1Trainaccurate )\n",
    "print('label1Testaccurate: ',label1Testaccurate )\n",
    "\n",
    "print('label2Trainaccurate: ',label2Trainaccurate )\n",
    "print('label2Testaccurate: ',label2Testaccurate )"
   ]
  },
  {
   "cell_type": "code",
   "execution_count": 173,
   "metadata": {},
   "outputs": [
    {
     "data": {
      "text/plain": [
       "tensor(21)"
      ]
     },
     "execution_count": 173,
     "metadata": {},
     "output_type": "execute_result"
    }
   ],
   "source": [
    "torch.sum(torch.logical_and(torch.argmax(predictionsTest,axis=1) == 2,labels[~traintestBool] == 2))"
   ]
  },
  {
   "cell_type": "markdown",
   "metadata": {
    "id": "jwTbABK7fqzZ"
   },
   "source": [
    "# Additional explorations"
   ]
  },
  {
   "cell_type": "code",
   "execution_count": 174,
   "metadata": {
    "id": "jWC_SDDCfrAo"
   },
   "outputs": [],
   "source": [
    "# 1) Randomly assigning data samples to be in the train vs test phase produced a statistical balance, but it was \n",
    "#    not perfect. Write an algorithm that will guarantee a balance of flower types while also randomly assigning\n",
    "#    samples to be in train vs. test.\n",
    "# MY COMMENTS: Final label0 accuracy: 100%\n",
    "#              Final label1 accuracy: 100%\n",
    "#              Final label2 accuracy: 100%\n",
    "# \n",
    "# 2) Revert the code to its original form -- with the strong imbalance in flower types. Then train the model. What are\n",
    "#    the train and test accuracies? Compute the accuracy separately for each type of flower to see whether the model\n",
    "#    learned some categories, or whether it performed equally on all three categories. Are you surprised at the results? \n",
    "# MY COMMENTS: The predictions test cases were only for last 30 label2 cases out of which 21 were correct giving accuracy of 70%"
   ]
  }
 ],
 "metadata": {
  "colab": {
   "authorship_tag": "ABX9TyNk9aAiPToKpfieCvxrzbDR",
   "collapsed_sections": [],
   "name": "DUDL_overfitting_manual.ipynb",
   "provenance": [
    {
     "file_id": "1YpHocGI4rApOxIBb1ZghCU5L-hFnv4CK",
     "timestamp": 1616608248670
    }
   ]
  },
  "kernelspec": {
   "display_name": "Python 3 (ipykernel)",
   "language": "python",
   "name": "python3"
  },
  "language_info": {
   "codemirror_mode": {
    "name": "ipython",
    "version": 3
   },
   "file_extension": ".py",
   "mimetype": "text/x-python",
   "name": "python",
   "nbconvert_exporter": "python",
   "pygments_lexer": "ipython3",
   "version": "3.11.4"
  }
 },
 "nbformat": 4,
 "nbformat_minor": 1
}
